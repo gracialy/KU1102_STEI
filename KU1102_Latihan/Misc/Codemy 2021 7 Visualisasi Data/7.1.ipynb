{
 "cells": [
  {
   "cell_type": "code",
   "execution_count": null,
   "metadata": {},
   "outputs": [],
   "source": [
    "# NIM/Nama  : 19622217/Lydia Gracia\n",
    "# Tanggal   :\n",
    "# Deskripsi : Program memeriksa ...; input: ...; output: ...\n",
    "\n",
    "# KAMUS\n",
    "'''jenis data variabel'''\n",
    "'''contoh: int, str, bool'''"
   ]
  },
  {
   "cell_type": "code",
   "execution_count": 1,
   "metadata": {},
   "outputs": [
    {
     "name": "stdout",
     "output_type": "stream",
     "text": [
      "                               nama fakultas  nilai_mat  nilai_fis  nilai_kim\n",
      "0     I G A Gede Seputra Paramasidi    FMIPA         94         36         38\n",
      "1                 Isabella Roseline    FMIPA        100         86         73\n",
      "2               Retika Aprilia Sari     FTTM         72         39         40\n",
      "3               Andi Vany Rohmadani    FMIPA         77         64         58\n",
      "4              Ratih Wahyu Setiyani    SAPPK         67         21         27\n",
      "...                             ...      ...        ...        ...        ...\n",
      "9142          Muhammad Iqbal Haidar    FMIPA         61         26         30\n",
      "9143                   Siti Solihah      FTI         63         75         35\n",
      "9144              Sahinaz Sesiovira    FMIPA         63         20         27\n",
      "9145             Intan Permata Sari      FTI         45         93         77\n",
      "9146    Gopindo Natanael Lbn Toruan     FITB         66         25         30\n",
      "\n",
      "[9147 rows x 5 columns]\n"
     ]
    }
   ],
   "source": [
    "import pandas as pd\n",
    "import matplotlib.pyplot as plt\n",
    "\n",
    "df=pd.read_csv(\"problem-6-1.csv\")\n",
    "\n",
    "print(df)"
   ]
  },
  {
   "cell_type": "markdown",
   "metadata": {},
   "source": [
    "1"
   ]
  },
  {
   "cell_type": "code",
   "execution_count": 2,
   "metadata": {},
   "outputs": [
    {
     "data": {
      "text/plain": [
       "9147"
      ]
     },
     "execution_count": 2,
     "metadata": {},
     "output_type": "execute_result"
    }
   ],
   "source": [
    "len(df)"
   ]
  },
  {
   "cell_type": "markdown",
   "metadata": {},
   "source": [
    "2"
   ]
  },
  {
   "cell_type": "code",
   "execution_count": 5,
   "metadata": {},
   "outputs": [
    {
     "data": {
      "text/html": [
       "<div>\n",
       "<style scoped>\n",
       "    .dataframe tbody tr th:only-of-type {\n",
       "        vertical-align: middle;\n",
       "    }\n",
       "\n",
       "    .dataframe tbody tr th {\n",
       "        vertical-align: top;\n",
       "    }\n",
       "\n",
       "    .dataframe thead th {\n",
       "        text-align: right;\n",
       "    }\n",
       "</style>\n",
       "<table border=\"1\" class=\"dataframe\">\n",
       "  <thead>\n",
       "    <tr style=\"text-align: right;\">\n",
       "      <th></th>\n",
       "      <th>nama</th>\n",
       "      <th>fakultas</th>\n",
       "      <th>nilai_mat</th>\n",
       "      <th>nilai_fis</th>\n",
       "      <th>nilai_kim</th>\n",
       "    </tr>\n",
       "  </thead>\n",
       "  <tbody>\n",
       "    <tr>\n",
       "      <th>5545</th>\n",
       "      <td>Tuan Wang</td>\n",
       "      <td>FTI</td>\n",
       "      <td>91</td>\n",
       "      <td>83</td>\n",
       "      <td>63</td>\n",
       "    </tr>\n",
       "  </tbody>\n",
       "</table>\n",
       "</div>"
      ],
      "text/plain": [
       "           nama fakultas  nilai_mat  nilai_fis  nilai_kim\n",
       "5545  Tuan Wang      FTI         91         83         63"
      ]
     },
     "execution_count": 5,
     "metadata": {},
     "output_type": "execute_result"
    }
   ],
   "source": [
    "df.loc[df[\"nama\"]==\"Tuan Wang\"]"
   ]
  },
  {
   "cell_type": "markdown",
   "metadata": {},
   "source": [
    "3"
   ]
  },
  {
   "cell_type": "code",
   "execution_count": 27,
   "metadata": {},
   "outputs": [
    {
     "data": {
      "text/plain": [
       "3161"
      ]
     },
     "execution_count": 27,
     "metadata": {},
     "output_type": "execute_result"
    }
   ],
   "source": [
    "len(df.loc[df[\"nilai_kim\"]>60])"
   ]
  },
  {
   "cell_type": "markdown",
   "metadata": {},
   "source": [
    "4"
   ]
  },
  {
   "cell_type": "code",
   "execution_count": 11,
   "metadata": {},
   "outputs": [
    {
     "data": {
      "text/html": [
       "<div>\n",
       "<style scoped>\n",
       "    .dataframe tbody tr th:only-of-type {\n",
       "        vertical-align: middle;\n",
       "    }\n",
       "\n",
       "    .dataframe tbody tr th {\n",
       "        vertical-align: top;\n",
       "    }\n",
       "\n",
       "    .dataframe thead th {\n",
       "        text-align: right;\n",
       "    }\n",
       "</style>\n",
       "<table border=\"1\" class=\"dataframe\">\n",
       "  <thead>\n",
       "    <tr style=\"text-align: right;\">\n",
       "      <th></th>\n",
       "      <th>nama</th>\n",
       "      <th>fakultas</th>\n",
       "      <th>nilai_mat</th>\n",
       "      <th>nilai_fis</th>\n",
       "      <th>nilai_kim</th>\n",
       "    </tr>\n",
       "  </thead>\n",
       "  <tbody>\n",
       "    <tr>\n",
       "      <th>0</th>\n",
       "      <td>I G A Gede Seputra Paramasidi</td>\n",
       "      <td>FMIPA</td>\n",
       "      <td>94</td>\n",
       "      <td>36</td>\n",
       "      <td>38</td>\n",
       "    </tr>\n",
       "    <tr>\n",
       "      <th>1</th>\n",
       "      <td>Isabella Roseline</td>\n",
       "      <td>FMIPA</td>\n",
       "      <td>100</td>\n",
       "      <td>86</td>\n",
       "      <td>73</td>\n",
       "    </tr>\n",
       "    <tr>\n",
       "      <th>10</th>\n",
       "      <td>Aufar Gilbran</td>\n",
       "      <td>FTI</td>\n",
       "      <td>100</td>\n",
       "      <td>88</td>\n",
       "      <td>74</td>\n",
       "    </tr>\n",
       "    <tr>\n",
       "      <th>16</th>\n",
       "      <td>Arifah Qurrota A Yun</td>\n",
       "      <td>FTTM</td>\n",
       "      <td>99</td>\n",
       "      <td>79</td>\n",
       "      <td>68</td>\n",
       "    </tr>\n",
       "    <tr>\n",
       "      <th>21</th>\n",
       "      <td>Sharine</td>\n",
       "      <td>FMIPA</td>\n",
       "      <td>96</td>\n",
       "      <td>99</td>\n",
       "      <td>81</td>\n",
       "    </tr>\n",
       "    <tr>\n",
       "      <th>...</th>\n",
       "      <td>...</td>\n",
       "      <td>...</td>\n",
       "      <td>...</td>\n",
       "      <td>...</td>\n",
       "      <td>...</td>\n",
       "    </tr>\n",
       "    <tr>\n",
       "      <th>9122</th>\n",
       "      <td>Samantha Verina</td>\n",
       "      <td>FTI</td>\n",
       "      <td>98</td>\n",
       "      <td>32</td>\n",
       "      <td>35</td>\n",
       "    </tr>\n",
       "    <tr>\n",
       "      <th>9127</th>\n",
       "      <td>I Wayan Kurniawan Aditya Warda</td>\n",
       "      <td>SAPPK</td>\n",
       "      <td>97</td>\n",
       "      <td>85</td>\n",
       "      <td>72</td>\n",
       "    </tr>\n",
       "    <tr>\n",
       "      <th>9132</th>\n",
       "      <td>Deviyanti Aryani Mariam</td>\n",
       "      <td>FTI</td>\n",
       "      <td>78</td>\n",
       "      <td>98</td>\n",
       "      <td>80</td>\n",
       "    </tr>\n",
       "    <tr>\n",
       "      <th>9135</th>\n",
       "      <td>Dionysia Bema Nariswari</td>\n",
       "      <td>FTI</td>\n",
       "      <td>93</td>\n",
       "      <td>72</td>\n",
       "      <td>63</td>\n",
       "    </tr>\n",
       "    <tr>\n",
       "      <th>9145</th>\n",
       "      <td>Intan Permata Sari</td>\n",
       "      <td>FTI</td>\n",
       "      <td>45</td>\n",
       "      <td>93</td>\n",
       "      <td>77</td>\n",
       "    </tr>\n",
       "  </tbody>\n",
       "</table>\n",
       "<p>2097 rows × 5 columns</p>\n",
       "</div>"
      ],
      "text/plain": [
       "                                nama fakultas  nilai_mat  nilai_fis  nilai_kim\n",
       "0      I G A Gede Seputra Paramasidi    FMIPA         94         36         38\n",
       "1                  Isabella Roseline    FMIPA        100         86         73\n",
       "10                     Aufar Gilbran      FTI        100         88         74\n",
       "16              Arifah Qurrota A Yun     FTTM         99         79         68\n",
       "21                           Sharine    FMIPA         96         99         81\n",
       "...                              ...      ...        ...        ...        ...\n",
       "9122                 Samantha Verina      FTI         98         32         35\n",
       "9127  I Wayan Kurniawan Aditya Warda    SAPPK         97         85         72\n",
       "9132         Deviyanti Aryani Mariam      FTI         78         98         80\n",
       "9135         Dionysia Bema Nariswari      FTI         93         72         63\n",
       "9145              Intan Permata Sari      FTI         45         93         77\n",
       "\n",
       "[2097 rows x 5 columns]"
      ]
     },
     "execution_count": 11,
     "metadata": {},
     "output_type": "execute_result"
    }
   ],
   "source": [
    "df.loc[(df[\"nilai_kim\"]>90) | (df[\"nilai_mat\"]>90) | (df[\"nilai_fis\"]>90)]"
   ]
  },
  {
   "cell_type": "markdown",
   "metadata": {},
   "source": [
    "5"
   ]
  },
  {
   "cell_type": "code",
   "execution_count": 35,
   "metadata": {},
   "outputs": [
    {
     "name": "stdout",
     "output_type": "stream",
     "text": [
      "                                nama  nilai_mat\n",
      "40                      Angga Fauzan         30\n",
      "65                  Vania Avviantari         30\n",
      "110                  M Khairul Hamid         30\n",
      "127   Maurits Theo Halomoan Simamora         30\n",
      "212           Henry Natanail Purwito         30\n",
      "...                              ...        ...\n",
      "8902                 Sharfina Ariefa         30\n",
      "8912                   Ricky Suryadi         30\n",
      "8985                    Mewan Wandik         30\n",
      "9009                    Aditya Rizky         30\n",
      "9061                Rodeta Sihombing         30\n",
      "\n",
      "[122 rows x 2 columns]\n",
      "nama         Angga Fauzan\n",
      "nilai_mat              30\n",
      "Name: 40, dtype: object\n"
     ]
    }
   ],
   "source": [
    "print(df.loc[df[\"nilai_mat\"]==df[\"nilai_mat\"].min()][[\"nama\",\"nilai_mat\"]])\n",
    "\n",
    "print(df.loc[df[\"nilai_mat\"].argmin()][[\"nama\",\"nilai_mat\"]])"
   ]
  },
  {
   "cell_type": "markdown",
   "metadata": {},
   "source": [
    "6"
   ]
  },
  {
   "cell_type": "code",
   "execution_count": 28,
   "metadata": {},
   "outputs": [
    {
     "data": {
      "text/html": [
       "<div>\n",
       "<style scoped>\n",
       "    .dataframe tbody tr th:only-of-type {\n",
       "        vertical-align: middle;\n",
       "    }\n",
       "\n",
       "    .dataframe tbody tr th {\n",
       "        vertical-align: top;\n",
       "    }\n",
       "\n",
       "    .dataframe thead th {\n",
       "        text-align: right;\n",
       "    }\n",
       "</style>\n",
       "<table border=\"1\" class=\"dataframe\">\n",
       "  <thead>\n",
       "    <tr style=\"text-align: right;\">\n",
       "      <th></th>\n",
       "      <th>nama</th>\n",
       "      <th>fakultas</th>\n",
       "      <th>nilai_mat</th>\n",
       "      <th>nilai_fis</th>\n",
       "      <th>nilai_kim</th>\n",
       "    </tr>\n",
       "  </thead>\n",
       "  <tbody>\n",
       "    <tr>\n",
       "      <th>7044</th>\n",
       "      <td>Achmad Maulana Gani</td>\n",
       "      <td>FITB</td>\n",
       "      <td>85</td>\n",
       "      <td>99</td>\n",
       "      <td>81</td>\n",
       "    </tr>\n",
       "    <tr>\n",
       "      <th>2148</th>\n",
       "      <td>Adhika Dwi Alfonzo</td>\n",
       "      <td>SAPPK</td>\n",
       "      <td>87</td>\n",
       "      <td>98</td>\n",
       "      <td>81</td>\n",
       "    </tr>\n",
       "    <tr>\n",
       "      <th>7778</th>\n",
       "      <td>Aditya Agung Putra</td>\n",
       "      <td>FITB</td>\n",
       "      <td>66</td>\n",
       "      <td>98</td>\n",
       "      <td>81</td>\n",
       "    </tr>\n",
       "    <tr>\n",
       "      <th>9027</th>\n",
       "      <td>Ahmad Rahman Ali</td>\n",
       "      <td>FMIPA</td>\n",
       "      <td>37</td>\n",
       "      <td>99</td>\n",
       "      <td>81</td>\n",
       "    </tr>\n",
       "    <tr>\n",
       "      <th>5743</th>\n",
       "      <td>Akhmad Saifuddin</td>\n",
       "      <td>FTTM</td>\n",
       "      <td>42</td>\n",
       "      <td>99</td>\n",
       "      <td>81</td>\n",
       "    </tr>\n",
       "    <tr>\n",
       "      <th>1535</th>\n",
       "      <td>Alyssa Nadhira Windari</td>\n",
       "      <td>FTI</td>\n",
       "      <td>99</td>\n",
       "      <td>99</td>\n",
       "      <td>81</td>\n",
       "    </tr>\n",
       "    <tr>\n",
       "      <th>8253</th>\n",
       "      <td>Amalia Nurlatifah</td>\n",
       "      <td>FITB</td>\n",
       "      <td>48</td>\n",
       "      <td>99</td>\n",
       "      <td>81</td>\n",
       "    </tr>\n",
       "    <tr>\n",
       "      <th>7802</th>\n",
       "      <td>Amanda Anindita Utami</td>\n",
       "      <td>SAPPK</td>\n",
       "      <td>89</td>\n",
       "      <td>99</td>\n",
       "      <td>81</td>\n",
       "    </tr>\n",
       "    <tr>\n",
       "      <th>6437</th>\n",
       "      <td>Amelia Annisa E</td>\n",
       "      <td>FMIPA</td>\n",
       "      <td>74</td>\n",
       "      <td>98</td>\n",
       "      <td>81</td>\n",
       "    </tr>\n",
       "    <tr>\n",
       "      <th>5185</th>\n",
       "      <td>Andy Susetyo</td>\n",
       "      <td>FTI</td>\n",
       "      <td>60</td>\n",
       "      <td>99</td>\n",
       "      <td>81</td>\n",
       "    </tr>\n",
       "  </tbody>\n",
       "</table>\n",
       "</div>"
      ],
      "text/plain": [
       "                        nama fakultas  nilai_mat  nilai_fis  nilai_kim\n",
       "7044     Achmad Maulana Gani     FITB         85         99         81\n",
       "2148      Adhika Dwi Alfonzo    SAPPK         87         98         81\n",
       "7778      Aditya Agung Putra     FITB         66         98         81\n",
       "9027        Ahmad Rahman Ali    FMIPA         37         99         81\n",
       "5743        Akhmad Saifuddin     FTTM         42         99         81\n",
       "1535  Alyssa Nadhira Windari      FTI         99         99         81\n",
       "8253       Amalia Nurlatifah     FITB         48         99         81\n",
       "7802   Amanda Anindita Utami    SAPPK         89         99         81\n",
       "6437         Amelia Annisa E    FMIPA         74         98         81\n",
       "5185            Andy Susetyo      FTI         60         99         81"
      ]
     },
     "execution_count": 28,
     "metadata": {},
     "output_type": "execute_result"
    }
   ],
   "source": [
    "df.sort_values([\"nilai_kim\",\"nama\"], ascending=[False, True])[:10]"
   ]
  },
  {
   "cell_type": "markdown",
   "metadata": {},
   "source": [
    "7"
   ]
  },
  {
   "cell_type": "code",
   "execution_count": 29,
   "metadata": {},
   "outputs": [
    {
     "data": {
      "text/plain": [
       "SAPPK    1864\n",
       "FITB     1863\n",
       "FTI      1842\n",
       "FMIPA    1790\n",
       "FTTM     1788\n",
       "Name: fakultas, dtype: int64"
      ]
     },
     "execution_count": 29,
     "metadata": {},
     "output_type": "execute_result"
    }
   ],
   "source": [
    "df[\"fakultas\"].value_counts()"
   ]
  },
  {
   "cell_type": "markdown",
   "metadata": {},
   "source": [
    "8"
   ]
  },
  {
   "cell_type": "code",
   "execution_count": 38,
   "metadata": {},
   "outputs": [
    {
     "data": {
      "text/plain": [
       "54.74505302284902"
      ]
     },
     "execution_count": 38,
     "metadata": {},
     "output_type": "execute_result"
    }
   ],
   "source": [
    "df[\"nilai_fis\"].mean()"
   ]
  },
  {
   "cell_type": "markdown",
   "metadata": {},
   "source": [
    "9"
   ]
  },
  {
   "cell_type": "code",
   "execution_count": 36,
   "metadata": {},
   "outputs": [
    {
     "data": {
      "text/plain": [
       "17.942244816293957"
      ]
     },
     "execution_count": 36,
     "metadata": {},
     "output_type": "execute_result"
    }
   ],
   "source": [
    "df[\"nilai_kim\"].std()"
   ]
  },
  {
   "cell_type": "markdown",
   "metadata": {},
   "source": [
    "10"
   ]
  },
  {
   "cell_type": "code",
   "execution_count": 37,
   "metadata": {},
   "outputs": [
    {
     "data": {
      "text/plain": [
       "64.81173184357542"
      ]
     },
     "execution_count": 37,
     "metadata": {},
     "output_type": "execute_result"
    }
   ],
   "source": [
    "# fmipa: dataframe\n",
    "\n",
    "fmipa=df.loc[df[\"fakultas\"]==\"FMIPA\"]\n",
    "\n",
    "fmipa[\"nilai_mat\"].mean()"
   ]
  },
  {
   "cell_type": "markdown",
   "metadata": {},
   "source": [
    "11"
   ]
  },
  {
   "cell_type": "code",
   "execution_count": 43,
   "metadata": {},
   "outputs": [
    {
     "name": "stdout",
     "output_type": "stream",
     "text": [
      "0.00025465377451187144\n",
      "0.8545321019663652\n"
     ]
    }
   ],
   "source": [
    "print(df[\"nilai_mat\"].corr(df[\"nilai_fis\"])) # tidak berkorelasi\n",
    "print(df[\"nilai_kim\"].corr(df[\"nilai_fis\"])) # berkorelasi positif"
   ]
  }
 ],
 "metadata": {
  "kernelspec": {
   "display_name": "Python 3.10.5 64-bit",
   "language": "python",
   "name": "python3"
  },
  "language_info": {
   "codemirror_mode": {
    "name": "ipython",
    "version": 3
   },
   "file_extension": ".py",
   "mimetype": "text/x-python",
   "name": "python",
   "nbconvert_exporter": "python",
   "pygments_lexer": "ipython3",
   "version": "3.10.5"
  },
  "orig_nbformat": 4,
  "vscode": {
   "interpreter": {
    "hash": "f2ccb58c476f33ba3e3aee7ac07234ef6b8217ef24ad64d2a7d4fed1a57c1cd2"
   }
  }
 },
 "nbformat": 4,
 "nbformat_minor": 2
}
