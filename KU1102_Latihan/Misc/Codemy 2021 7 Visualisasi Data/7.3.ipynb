{
 "cells": [
  {
   "cell_type": "code",
   "execution_count": 31,
   "metadata": {},
   "outputs": [
    {
     "data": {
      "text/plain": [
       "'contoh: int, str, bool'"
      ]
     },
     "execution_count": 31,
     "metadata": {},
     "output_type": "execute_result"
    }
   ],
   "source": [
    "# NIM/Nama  : 19622217/Lydia Gracia\n",
    "# Tanggal   :\n",
    "# Deskripsi : Program memeriksa ...; input: ...; output: ...\n",
    "\n",
    "# KAMUS\n",
    "'''jenis data variabel'''\n",
    "'''contoh: int, str, bool'''"
   ]
  },
  {
   "cell_type": "code",
   "execution_count": 1,
   "metadata": {},
   "outputs": [
    {
     "name": "stdout",
     "output_type": "stream",
     "text": [
      "          maskapai asal tujuan  tahun  penumpang    harga\n",
      "0            macan  JOG    SRG   2014        126  2414238\n",
      "1     country link  BTO    BTH   2016        141  2707440\n",
      "2            macan  BDO    SRG   2016        189  3751886\n",
      "3         rajawali  BDO    PDG   2017        117  2224218\n",
      "4       water asia  KNO    BTH   2015         82  1473728\n",
      "...            ...  ...    ...    ...        ...      ...\n",
      "9957         macan  BTO    BTH   2016        152  2955327\n",
      "9958      rajawali  KNO    HLP   2014        197  3922810\n",
      "9959  country link  KNO    HLP   2016        193  3986309\n",
      "9960         macan  BDO    HLP   2016         91  1675138\n",
      "9961  country link  CGK    SRG   2015        141  2711080\n",
      "\n",
      "[9962 rows x 6 columns]\n"
     ]
    }
   ],
   "source": [
    "import pandas as pd\n",
    "import matplotlib.pyplot as plt\n",
    "\n",
    "df=pd.read_csv(\"problem-6-3.csv\")\n",
    "\n",
    "print(df)"
   ]
  },
  {
   "cell_type": "markdown",
   "metadata": {},
   "source": [
    "1"
   ]
  },
  {
   "cell_type": "code",
   "execution_count": 2,
   "metadata": {},
   "outputs": [
    {
     "data": {
      "text/plain": [
       "9962"
      ]
     },
     "execution_count": 2,
     "metadata": {},
     "output_type": "execute_result"
    }
   ],
   "source": [
    "len(df)"
   ]
  },
  {
   "cell_type": "markdown",
   "metadata": {},
   "source": [
    "2"
   ]
  },
  {
   "cell_type": "code",
   "execution_count": 3,
   "metadata": {},
   "outputs": [
    {
     "data": {
      "text/html": [
       "<div>\n",
       "<style scoped>\n",
       "    .dataframe tbody tr th:only-of-type {\n",
       "        vertical-align: middle;\n",
       "    }\n",
       "\n",
       "    .dataframe tbody tr th {\n",
       "        vertical-align: top;\n",
       "    }\n",
       "\n",
       "    .dataframe thead th {\n",
       "        text-align: right;\n",
       "    }\n",
       "</style>\n",
       "<table border=\"1\" class=\"dataframe\">\n",
       "  <thead>\n",
       "    <tr style=\"text-align: right;\">\n",
       "      <th></th>\n",
       "      <th>maskapai</th>\n",
       "      <th>asal</th>\n",
       "      <th>tujuan</th>\n",
       "      <th>tahun</th>\n",
       "      <th>penumpang</th>\n",
       "      <th>harga</th>\n",
       "    </tr>\n",
       "  </thead>\n",
       "  <tbody>\n",
       "    <tr>\n",
       "      <th>6435</th>\n",
       "      <td>rajawali</td>\n",
       "      <td>SRG</td>\n",
       "      <td>BDO</td>\n",
       "      <td>2017</td>\n",
       "      <td>101</td>\n",
       "      <td>1999999</td>\n",
       "    </tr>\n",
       "  </tbody>\n",
       "</table>\n",
       "</div>"
      ],
      "text/plain": [
       "      maskapai asal tujuan  tahun  penumpang    harga\n",
       "6435  rajawali  SRG    BDO   2017        101  1999999"
      ]
     },
     "execution_count": 3,
     "metadata": {},
     "output_type": "execute_result"
    }
   ],
   "source": [
    "df.loc[df[\"harga\"]==1999999]"
   ]
  },
  {
   "cell_type": "markdown",
   "metadata": {},
   "source": [
    "3"
   ]
  },
  {
   "cell_type": "code",
   "execution_count": 4,
   "metadata": {},
   "outputs": [
    {
     "data": {
      "text/plain": [
       "1662"
      ]
     },
     "execution_count": 4,
     "metadata": {},
     "output_type": "execute_result"
    }
   ],
   "source": [
    "len(df.loc[df[\"harga\"]>3500000])"
   ]
  },
  {
   "cell_type": "markdown",
   "metadata": {},
   "source": [
    "4"
   ]
  },
  {
   "cell_type": "code",
   "execution_count": 5,
   "metadata": {},
   "outputs": [
    {
     "data": {
      "text/html": [
       "<div>\n",
       "<style scoped>\n",
       "    .dataframe tbody tr th:only-of-type {\n",
       "        vertical-align: middle;\n",
       "    }\n",
       "\n",
       "    .dataframe tbody tr th {\n",
       "        vertical-align: top;\n",
       "    }\n",
       "\n",
       "    .dataframe thead th {\n",
       "        text-align: right;\n",
       "    }\n",
       "</style>\n",
       "<table border=\"1\" class=\"dataframe\">\n",
       "  <thead>\n",
       "    <tr style=\"text-align: right;\">\n",
       "      <th></th>\n",
       "      <th>maskapai</th>\n",
       "      <th>asal</th>\n",
       "      <th>tujuan</th>\n",
       "      <th>tahun</th>\n",
       "      <th>penumpang</th>\n",
       "      <th>harga</th>\n",
       "    </tr>\n",
       "  </thead>\n",
       "  <tbody>\n",
       "    <tr>\n",
       "      <th>0</th>\n",
       "      <td>macan</td>\n",
       "      <td>JOG</td>\n",
       "      <td>SRG</td>\n",
       "      <td>2014</td>\n",
       "      <td>126</td>\n",
       "      <td>2414238</td>\n",
       "    </tr>\n",
       "    <tr>\n",
       "      <th>8</th>\n",
       "      <td>water asia</td>\n",
       "      <td>KNO</td>\n",
       "      <td>SRG</td>\n",
       "      <td>2014</td>\n",
       "      <td>181</td>\n",
       "      <td>3576370</td>\n",
       "    </tr>\n",
       "    <tr>\n",
       "      <th>11</th>\n",
       "      <td>macan</td>\n",
       "      <td>JOG</td>\n",
       "      <td>UPG</td>\n",
       "      <td>2014</td>\n",
       "      <td>60</td>\n",
       "      <td>1018254</td>\n",
       "    </tr>\n",
       "    <tr>\n",
       "      <th>19</th>\n",
       "      <td>water asia</td>\n",
       "      <td>PKU</td>\n",
       "      <td>UPG</td>\n",
       "      <td>2014</td>\n",
       "      <td>94</td>\n",
       "      <td>1745372</td>\n",
       "    </tr>\n",
       "    <tr>\n",
       "      <th>22</th>\n",
       "      <td>rajawali</td>\n",
       "      <td>CGK</td>\n",
       "      <td>DPS</td>\n",
       "      <td>2014</td>\n",
       "      <td>199</td>\n",
       "      <td>3957458</td>\n",
       "    </tr>\n",
       "    <tr>\n",
       "      <th>...</th>\n",
       "      <td>...</td>\n",
       "      <td>...</td>\n",
       "      <td>...</td>\n",
       "      <td>...</td>\n",
       "      <td>...</td>\n",
       "      <td>...</td>\n",
       "    </tr>\n",
       "    <tr>\n",
       "      <th>9936</th>\n",
       "      <td>water asia</td>\n",
       "      <td>JOG</td>\n",
       "      <td>UPG</td>\n",
       "      <td>2014</td>\n",
       "      <td>74</td>\n",
       "      <td>1315633</td>\n",
       "    </tr>\n",
       "    <tr>\n",
       "      <th>9946</th>\n",
       "      <td>rajawali</td>\n",
       "      <td>JOG</td>\n",
       "      <td>SRG</td>\n",
       "      <td>2014</td>\n",
       "      <td>116</td>\n",
       "      <td>1943266</td>\n",
       "    </tr>\n",
       "    <tr>\n",
       "      <th>9947</th>\n",
       "      <td>mataram</td>\n",
       "      <td>BTO</td>\n",
       "      <td>DPS</td>\n",
       "      <td>2014</td>\n",
       "      <td>173</td>\n",
       "      <td>3406653</td>\n",
       "    </tr>\n",
       "    <tr>\n",
       "      <th>9949</th>\n",
       "      <td>water asia</td>\n",
       "      <td>JOG</td>\n",
       "      <td>UPG</td>\n",
       "      <td>2014</td>\n",
       "      <td>91</td>\n",
       "      <td>3392935</td>\n",
       "    </tr>\n",
       "    <tr>\n",
       "      <th>9958</th>\n",
       "      <td>rajawali</td>\n",
       "      <td>KNO</td>\n",
       "      <td>HLP</td>\n",
       "      <td>2014</td>\n",
       "      <td>197</td>\n",
       "      <td>3922810</td>\n",
       "    </tr>\n",
       "  </tbody>\n",
       "</table>\n",
       "<p>2115 rows × 6 columns</p>\n",
       "</div>"
      ],
      "text/plain": [
       "        maskapai asal tujuan  tahun  penumpang    harga\n",
       "0          macan  JOG    SRG   2014        126  2414238\n",
       "8     water asia  KNO    SRG   2014        181  3576370\n",
       "11         macan  JOG    UPG   2014         60  1018254\n",
       "19    water asia  PKU    UPG   2014         94  1745372\n",
       "22      rajawali  CGK    DPS   2014        199  3957458\n",
       "...          ...  ...    ...    ...        ...      ...\n",
       "9936  water asia  JOG    UPG   2014         74  1315633\n",
       "9946    rajawali  JOG    SRG   2014        116  1943266\n",
       "9947     mataram  BTO    DPS   2014        173  3406653\n",
       "9949  water asia  JOG    UPG   2014         91  3392935\n",
       "9958    rajawali  KNO    HLP   2014        197  3922810\n",
       "\n",
       "[2115 rows x 6 columns]"
      ]
     },
     "execution_count": 5,
     "metadata": {},
     "output_type": "execute_result"
    }
   ],
   "source": [
    "df.loc[(df[\"tahun\"]==2014) & (df[\"tujuan\"]!=\"PDG\")]"
   ]
  },
  {
   "cell_type": "markdown",
   "metadata": {},
   "source": [
    "5"
   ]
  },
  {
   "cell_type": "code",
   "execution_count": 6,
   "metadata": {},
   "outputs": [
    {
     "data": {
      "text/html": [
       "<div>\n",
       "<style scoped>\n",
       "    .dataframe tbody tr th:only-of-type {\n",
       "        vertical-align: middle;\n",
       "    }\n",
       "\n",
       "    .dataframe tbody tr th {\n",
       "        vertical-align: top;\n",
       "    }\n",
       "\n",
       "    .dataframe thead th {\n",
       "        text-align: right;\n",
       "    }\n",
       "</style>\n",
       "<table border=\"1\" class=\"dataframe\">\n",
       "  <thead>\n",
       "    <tr style=\"text-align: right;\">\n",
       "      <th></th>\n",
       "      <th>maskapai</th>\n",
       "      <th>asal</th>\n",
       "      <th>tujuan</th>\n",
       "      <th>tahun</th>\n",
       "      <th>penumpang</th>\n",
       "      <th>harga</th>\n",
       "    </tr>\n",
       "  </thead>\n",
       "  <tbody>\n",
       "    <tr>\n",
       "      <th>7121</th>\n",
       "      <td>macan</td>\n",
       "      <td>BTO</td>\n",
       "      <td>BTH</td>\n",
       "      <td>2016</td>\n",
       "      <td>60</td>\n",
       "      <td>1005234</td>\n",
       "    </tr>\n",
       "  </tbody>\n",
       "</table>\n",
       "</div>"
      ],
      "text/plain": [
       "     maskapai asal tujuan  tahun  penumpang    harga\n",
       "7121    macan  BTO    BTH   2016         60  1005234"
      ]
     },
     "execution_count": 6,
     "metadata": {},
     "output_type": "execute_result"
    }
   ],
   "source": [
    "macan=df.loc[df[\"maskapai\"]==\"macan\"]\n",
    "\n",
    "macan.loc[macan[\"harga\"]==macan[\"harga\"].min()]"
   ]
  },
  {
   "cell_type": "markdown",
   "metadata": {},
   "source": [
    "6"
   ]
  },
  {
   "cell_type": "code",
   "execution_count": 8,
   "metadata": {},
   "outputs": [
    {
     "data": {
      "text/html": [
       "<div>\n",
       "<style scoped>\n",
       "    .dataframe tbody tr th:only-of-type {\n",
       "        vertical-align: middle;\n",
       "    }\n",
       "\n",
       "    .dataframe tbody tr th {\n",
       "        vertical-align: top;\n",
       "    }\n",
       "\n",
       "    .dataframe thead th {\n",
       "        text-align: right;\n",
       "    }\n",
       "</style>\n",
       "<table border=\"1\" class=\"dataframe\">\n",
       "  <thead>\n",
       "    <tr style=\"text-align: right;\">\n",
       "      <th></th>\n",
       "      <th>maskapai</th>\n",
       "      <th>asal</th>\n",
       "      <th>tujuan</th>\n",
       "      <th>tahun</th>\n",
       "      <th>penumpang</th>\n",
       "      <th>harga</th>\n",
       "    </tr>\n",
       "  </thead>\n",
       "  <tbody>\n",
       "    <tr>\n",
       "      <th>835</th>\n",
       "      <td>rajawali</td>\n",
       "      <td>KNO</td>\n",
       "      <td>BTH</td>\n",
       "      <td>2015</td>\n",
       "      <td>200</td>\n",
       "      <td>2191958</td>\n",
       "    </tr>\n",
       "    <tr>\n",
       "      <th>2192</th>\n",
       "      <td>rajawali</td>\n",
       "      <td>BDO</td>\n",
       "      <td>SRG</td>\n",
       "      <td>2016</td>\n",
       "      <td>200</td>\n",
       "      <td>3405316</td>\n",
       "    </tr>\n",
       "    <tr>\n",
       "      <th>8102</th>\n",
       "      <td>rajawali</td>\n",
       "      <td>PKU</td>\n",
       "      <td>SRG</td>\n",
       "      <td>2017</td>\n",
       "      <td>200</td>\n",
       "      <td>3969784</td>\n",
       "    </tr>\n",
       "    <tr>\n",
       "      <th>1216</th>\n",
       "      <td>rajawali</td>\n",
       "      <td>CGK</td>\n",
       "      <td>SRG</td>\n",
       "      <td>2016</td>\n",
       "      <td>200</td>\n",
       "      <td>3971021</td>\n",
       "    </tr>\n",
       "    <tr>\n",
       "      <th>6139</th>\n",
       "      <td>rajawali</td>\n",
       "      <td>PKU</td>\n",
       "      <td>PDG</td>\n",
       "      <td>2017</td>\n",
       "      <td>200</td>\n",
       "      <td>3973524</td>\n",
       "    </tr>\n",
       "    <tr>\n",
       "      <th>7175</th>\n",
       "      <td>rajawali</td>\n",
       "      <td>BDO</td>\n",
       "      <td>UPG</td>\n",
       "      <td>2016</td>\n",
       "      <td>200</td>\n",
       "      <td>3977544</td>\n",
       "    </tr>\n",
       "    <tr>\n",
       "      <th>9160</th>\n",
       "      <td>rajawali</td>\n",
       "      <td>KNO</td>\n",
       "      <td>DPS</td>\n",
       "      <td>2015</td>\n",
       "      <td>200</td>\n",
       "      <td>3978077</td>\n",
       "    </tr>\n",
       "    <tr>\n",
       "      <th>2721</th>\n",
       "      <td>rajawali</td>\n",
       "      <td>PKU</td>\n",
       "      <td>PDG</td>\n",
       "      <td>2015</td>\n",
       "      <td>200</td>\n",
       "      <td>3980327</td>\n",
       "    </tr>\n",
       "    <tr>\n",
       "      <th>2745</th>\n",
       "      <td>rajawali</td>\n",
       "      <td>BDO</td>\n",
       "      <td>UPG</td>\n",
       "      <td>2017</td>\n",
       "      <td>200</td>\n",
       "      <td>3980449</td>\n",
       "    </tr>\n",
       "    <tr>\n",
       "      <th>9447</th>\n",
       "      <td>rajawali</td>\n",
       "      <td>BDO</td>\n",
       "      <td>PDG</td>\n",
       "      <td>2016</td>\n",
       "      <td>200</td>\n",
       "      <td>3982286</td>\n",
       "    </tr>\n",
       "  </tbody>\n",
       "</table>\n",
       "</div>"
      ],
      "text/plain": [
       "      maskapai asal tujuan  tahun  penumpang    harga\n",
       "835   rajawali  KNO    BTH   2015        200  2191958\n",
       "2192  rajawali  BDO    SRG   2016        200  3405316\n",
       "8102  rajawali  PKU    SRG   2017        200  3969784\n",
       "1216  rajawali  CGK    SRG   2016        200  3971021\n",
       "6139  rajawali  PKU    PDG   2017        200  3973524\n",
       "7175  rajawali  BDO    UPG   2016        200  3977544\n",
       "9160  rajawali  KNO    DPS   2015        200  3978077\n",
       "2721  rajawali  PKU    PDG   2015        200  3980327\n",
       "2745  rajawali  BDO    UPG   2017        200  3980449\n",
       "9447  rajawali  BDO    PDG   2016        200  3982286"
      ]
     },
     "execution_count": 8,
     "metadata": {},
     "output_type": "execute_result"
    }
   ],
   "source": [
    "rajawali=df.loc[df[\"maskapai\"]==\"rajawali\"]\n",
    "\n",
    "rajawali.sort_values([\"penumpang\", \"harga\"], ascending=[False, True])[:10]"
   ]
  },
  {
   "cell_type": "markdown",
   "metadata": {},
   "source": [
    "7"
   ]
  },
  {
   "cell_type": "code",
   "execution_count": 9,
   "metadata": {},
   "outputs": [
    {
     "data": {
      "text/plain": [
       "2015    507\n",
       "2014    502\n",
       "2017    502\n",
       "2016    496\n",
       "Name: tahun, dtype: int64"
      ]
     },
     "execution_count": 9,
     "metadata": {},
     "output_type": "execute_result"
    }
   ],
   "source": [
    "cl=df.loc[df[\"maskapai\"]==\"country link\"]\n",
    "\n",
    "cl[\"tahun\"].value_counts()"
   ]
  },
  {
   "cell_type": "markdown",
   "metadata": {},
   "source": [
    "8"
   ]
  },
  {
   "cell_type": "code",
   "execution_count": 10,
   "metadata": {},
   "outputs": [
    {
     "data": {
      "text/plain": [
       "2500099.7133105802"
      ]
     },
     "execution_count": 10,
     "metadata": {},
     "output_type": "execute_result"
    }
   ],
   "source": [
    "df[\"harga\"].mean()"
   ]
  },
  {
   "cell_type": "markdown",
   "metadata": {},
   "source": [
    "9"
   ]
  },
  {
   "cell_type": "code",
   "execution_count": 11,
   "metadata": {},
   "outputs": [
    {
     "data": {
      "text/plain": [
       "41.18986434514762"
      ]
     },
     "execution_count": 11,
     "metadata": {},
     "output_type": "execute_result"
    }
   ],
   "source": [
    "mataram=df.loc[df[\"maskapai\"]==\"mataram\"]\n",
    "\n",
    "mataram[\"penumpang\"].std()"
   ]
  },
  {
   "cell_type": "markdown",
   "metadata": {},
   "source": [
    "10"
   ]
  },
  {
   "cell_type": "code",
   "execution_count": 12,
   "metadata": {},
   "outputs": [
    {
     "data": {
      "text/plain": [
       "2515655.4907822623"
      ]
     },
     "execution_count": 12,
     "metadata": {},
     "output_type": "execute_result"
    }
   ],
   "source": [
    "cl=df.loc[df[\"maskapai\"]==\"country link\"]\n",
    "\n",
    "cl[\"harga\"].mean()"
   ]
  },
  {
   "cell_type": "markdown",
   "metadata": {},
   "source": [
    "11"
   ]
  },
  {
   "cell_type": "code",
   "execution_count": 13,
   "metadata": {},
   "outputs": [
    {
     "name": "stdout",
     "output_type": "stream",
     "text": [
      "0.917927324236429\n"
     ]
    }
   ],
   "source": [
    "print(df[\"penumpang\"].corr(df[\"harga\"])) # berkorelasi positif"
   ]
  }
 ],
 "metadata": {
  "kernelspec": {
   "display_name": "Python 3.10.5 64-bit",
   "language": "python",
   "name": "python3"
  },
  "language_info": {
   "codemirror_mode": {
    "name": "ipython",
    "version": 3
   },
   "file_extension": ".py",
   "mimetype": "text/x-python",
   "name": "python",
   "nbconvert_exporter": "python",
   "pygments_lexer": "ipython3",
   "version": "3.10.5"
  },
  "orig_nbformat": 4,
  "vscode": {
   "interpreter": {
    "hash": "f2ccb58c476f33ba3e3aee7ac07234ef6b8217ef24ad64d2a7d4fed1a57c1cd2"
   }
  }
 },
 "nbformat": 4,
 "nbformat_minor": 2
}
