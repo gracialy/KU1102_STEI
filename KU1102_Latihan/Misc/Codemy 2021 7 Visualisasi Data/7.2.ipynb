{
 "cells": [
  {
   "cell_type": "code",
   "execution_count": 31,
   "metadata": {},
   "outputs": [
    {
     "data": {
      "text/plain": [
       "'contoh: int, str, bool'"
      ]
     },
     "execution_count": 31,
     "metadata": {},
     "output_type": "execute_result"
    }
   ],
   "source": [
    "# NIM/Nama  : 19622217/Lydia Gracia\n",
    "# Tanggal   :\n",
    "# Deskripsi : Program memeriksa ...; input: ...; output: ...\n",
    "\n",
    "# KAMUS\n",
    "'''jenis data variabel'''\n",
    "'''contoh: int, str, bool'''"
   ]
  },
  {
   "cell_type": "code",
   "execution_count": 32,
   "metadata": {},
   "outputs": [
    {
     "name": "stdout",
     "output_type": "stream",
     "text": [
      "                             nama      tipe_barang  bulan  tahun  qty  profit\n",
      "0                Aji Suryo Wibowo  alat kebersihan      4   2016   19  184331\n",
      "1           Dina Karunia Ramadhan          minuman      7   2014    3   31581\n",
      "2         Theresia Dewi Inggriani       elektronik      5   2015   15  145835\n",
      "3                         Sabrina          makanan      9   2016   11  112875\n",
      "4                   Avit Setianto  alat kebersihan      3   2015    1   18811\n",
      "...                           ...              ...    ...    ...  ...     ...\n",
      "7954       Ajeng Putri Lenggogeni       alat masak      3   2015   18  175579\n",
      "7955       Derie Camara Eka Putra  alat kebersihan      8   2015   13  133694\n",
      "7956  Anggriawan Prasetya Putra K          makanan      8   2014   16  159809\n",
      "7957        Hafiz Nafila Arditama  alat kebersihan      1   2017    4   45208\n",
      "7958     Ishlah Yasini Zulqarnain       elektronik     12   2015   11  108420\n",
      "\n",
      "[7959 rows x 6 columns]\n"
     ]
    }
   ],
   "source": [
    "import pandas as pd\n",
    "import matplotlib.pyplot as plt\n",
    "\n",
    "df=pd.read_csv(\"problem-6-2.csv\")\n",
    "\n",
    "print(df)"
   ]
  },
  {
   "cell_type": "markdown",
   "metadata": {},
   "source": [
    "1"
   ]
  },
  {
   "cell_type": "code",
   "execution_count": 33,
   "metadata": {},
   "outputs": [
    {
     "data": {
      "text/plain": [
       "7959"
      ]
     },
     "execution_count": 33,
     "metadata": {},
     "output_type": "execute_result"
    }
   ],
   "source": [
    "len(df)"
   ]
  },
  {
   "cell_type": "markdown",
   "metadata": {},
   "source": [
    "2"
   ]
  },
  {
   "cell_type": "code",
   "execution_count": 34,
   "metadata": {},
   "outputs": [
    {
     "data": {
      "text/html": [
       "<div>\n",
       "<style scoped>\n",
       "    .dataframe tbody tr th:only-of-type {\n",
       "        vertical-align: middle;\n",
       "    }\n",
       "\n",
       "    .dataframe tbody tr th {\n",
       "        vertical-align: top;\n",
       "    }\n",
       "\n",
       "    .dataframe thead th {\n",
       "        text-align: right;\n",
       "    }\n",
       "</style>\n",
       "<table border=\"1\" class=\"dataframe\">\n",
       "  <thead>\n",
       "    <tr style=\"text-align: right;\">\n",
       "      <th></th>\n",
       "      <th>nama</th>\n",
       "      <th>tipe_barang</th>\n",
       "      <th>bulan</th>\n",
       "      <th>tahun</th>\n",
       "      <th>qty</th>\n",
       "      <th>profit</th>\n",
       "    </tr>\n",
       "  </thead>\n",
       "  <tbody>\n",
       "    <tr>\n",
       "      <th>1556</th>\n",
       "      <td>Tuan Wang</td>\n",
       "      <td>elektronik</td>\n",
       "      <td>4</td>\n",
       "      <td>2017</td>\n",
       "      <td>7</td>\n",
       "      <td>12312</td>\n",
       "    </tr>\n",
       "  </tbody>\n",
       "</table>\n",
       "</div>"
      ],
      "text/plain": [
       "           nama tipe_barang  bulan  tahun  qty  profit\n",
       "1556  Tuan Wang  elektronik      4   2017    7   12312"
      ]
     },
     "execution_count": 34,
     "metadata": {},
     "output_type": "execute_result"
    }
   ],
   "source": [
    "df.loc[df[\"nama\"]==\"Tuan Wang\"]"
   ]
  },
  {
   "cell_type": "markdown",
   "metadata": {},
   "source": [
    "3"
   ]
  },
  {
   "cell_type": "code",
   "execution_count": 35,
   "metadata": {},
   "outputs": [
    {
     "data": {
      "text/plain": [
       "2148"
      ]
     },
     "execution_count": 35,
     "metadata": {},
     "output_type": "execute_result"
    }
   ],
   "source": [
    "len(df.loc[df[\"profit\"]>150000])"
   ]
  },
  {
   "cell_type": "markdown",
   "metadata": {},
   "source": [
    "4"
   ]
  },
  {
   "cell_type": "code",
   "execution_count": 44,
   "metadata": {},
   "outputs": [
    {
     "data": {
      "text/html": [
       "<div>\n",
       "<style scoped>\n",
       "    .dataframe tbody tr th:only-of-type {\n",
       "        vertical-align: middle;\n",
       "    }\n",
       "\n",
       "    .dataframe tbody tr th {\n",
       "        vertical-align: top;\n",
       "    }\n",
       "\n",
       "    .dataframe thead th {\n",
       "        text-align: right;\n",
       "    }\n",
       "</style>\n",
       "<table border=\"1\" class=\"dataframe\">\n",
       "  <thead>\n",
       "    <tr style=\"text-align: right;\">\n",
       "      <th></th>\n",
       "      <th>nama</th>\n",
       "      <th>tipe_barang</th>\n",
       "      <th>bulan</th>\n",
       "      <th>tahun</th>\n",
       "      <th>qty</th>\n",
       "      <th>profit</th>\n",
       "    </tr>\n",
       "  </thead>\n",
       "  <tbody>\n",
       "    <tr>\n",
       "      <th>17</th>\n",
       "      <td>Flesensius Agam Fradiska</td>\n",
       "      <td>minuman</td>\n",
       "      <td>10</td>\n",
       "      <td>2014</td>\n",
       "      <td>10</td>\n",
       "      <td>100327</td>\n",
       "    </tr>\n",
       "    <tr>\n",
       "      <th>91</th>\n",
       "      <td>Rizky Rachmadi</td>\n",
       "      <td>pakaian</td>\n",
       "      <td>10</td>\n",
       "      <td>2014</td>\n",
       "      <td>15</td>\n",
       "      <td>150757</td>\n",
       "    </tr>\n",
       "    <tr>\n",
       "      <th>155</th>\n",
       "      <td>James Ian Christanto</td>\n",
       "      <td>alat kebersihan</td>\n",
       "      <td>10</td>\n",
       "      <td>2014</td>\n",
       "      <td>8</td>\n",
       "      <td>81844</td>\n",
       "    </tr>\n",
       "    <tr>\n",
       "      <th>188</th>\n",
       "      <td>Rizky Nurachman</td>\n",
       "      <td>makanan</td>\n",
       "      <td>10</td>\n",
       "      <td>2014</td>\n",
       "      <td>18</td>\n",
       "      <td>174983</td>\n",
       "    </tr>\n",
       "    <tr>\n",
       "      <th>332</th>\n",
       "      <td>Arif Wijaya</td>\n",
       "      <td>alat kebersihan</td>\n",
       "      <td>10</td>\n",
       "      <td>2014</td>\n",
       "      <td>11</td>\n",
       "      <td>113119</td>\n",
       "    </tr>\n",
       "    <tr>\n",
       "      <th>...</th>\n",
       "      <td>...</td>\n",
       "      <td>...</td>\n",
       "      <td>...</td>\n",
       "      <td>...</td>\n",
       "      <td>...</td>\n",
       "      <td>...</td>\n",
       "    </tr>\n",
       "    <tr>\n",
       "      <th>7831</th>\n",
       "      <td>Julianto Saut Hamonangan</td>\n",
       "      <td>alat kebersihan</td>\n",
       "      <td>4</td>\n",
       "      <td>2015</td>\n",
       "      <td>6</td>\n",
       "      <td>58945</td>\n",
       "    </tr>\n",
       "    <tr>\n",
       "      <th>7866</th>\n",
       "      <td>Imam Maulana</td>\n",
       "      <td>elektronik</td>\n",
       "      <td>4</td>\n",
       "      <td>2015</td>\n",
       "      <td>12</td>\n",
       "      <td>123341</td>\n",
       "    </tr>\n",
       "    <tr>\n",
       "      <th>7900</th>\n",
       "      <td>Philip Anugrah Raskita</td>\n",
       "      <td>makanan</td>\n",
       "      <td>4</td>\n",
       "      <td>2015</td>\n",
       "      <td>12</td>\n",
       "      <td>114258</td>\n",
       "    </tr>\n",
       "    <tr>\n",
       "      <th>7911</th>\n",
       "      <td>Mukhlis Achmad Zaelani</td>\n",
       "      <td>alat masak</td>\n",
       "      <td>4</td>\n",
       "      <td>2015</td>\n",
       "      <td>18</td>\n",
       "      <td>177738</td>\n",
       "    </tr>\n",
       "    <tr>\n",
       "      <th>7916</th>\n",
       "      <td>Nita Dwi Astuti</td>\n",
       "      <td>alat kebersihan</td>\n",
       "      <td>4</td>\n",
       "      <td>2015</td>\n",
       "      <td>15</td>\n",
       "      <td>150254</td>\n",
       "    </tr>\n",
       "  </tbody>\n",
       "</table>\n",
       "<p>1162 rows × 6 columns</p>\n",
       "</div>"
      ],
      "text/plain": [
       "                          nama      tipe_barang  bulan  tahun  qty  profit\n",
       "17    Flesensius Agam Fradiska          minuman     10   2014   10  100327\n",
       "91              Rizky Rachmadi          pakaian     10   2014   15  150757\n",
       "155       James Ian Christanto  alat kebersihan     10   2014    8   81844\n",
       "188            Rizky Nurachman          makanan     10   2014   18  174983\n",
       "332                Arif Wijaya  alat kebersihan     10   2014   11  113119\n",
       "...                        ...              ...    ...    ...  ...     ...\n",
       "7831  Julianto Saut Hamonangan  alat kebersihan      4   2015    6   58945\n",
       "7866              Imam Maulana       elektronik      4   2015   12  123341\n",
       "7900    Philip Anugrah Raskita          makanan      4   2015   12  114258\n",
       "7911    Mukhlis Achmad Zaelani       alat masak      4   2015   18  177738\n",
       "7916           Nita Dwi Astuti  alat kebersihan      4   2015   15  150254\n",
       "\n",
       "[1162 rows x 6 columns]"
      ]
     },
     "execution_count": 44,
     "metadata": {},
     "output_type": "execute_result"
    }
   ],
   "source": [
    "sort=df.sort_values([\"tahun\", \"bulan\"], ascending=[True, True])\n",
    "\n",
    "sort.loc[\n",
    "    ((sort[\"tahun\"]==2014) & (sort[\"bulan\"]>=10)) | \n",
    "    ((sort[\"tahun\"]==2015) & (sort[\"bulan\"]<=4))]"
   ]
  },
  {
   "cell_type": "markdown",
   "metadata": {},
   "source": [
    "5"
   ]
  },
  {
   "cell_type": "code",
   "execution_count": 45,
   "metadata": {},
   "outputs": [
    {
     "data": {
      "text/html": [
       "<div>\n",
       "<style scoped>\n",
       "    .dataframe tbody tr th:only-of-type {\n",
       "        vertical-align: middle;\n",
       "    }\n",
       "\n",
       "    .dataframe tbody tr th {\n",
       "        vertical-align: top;\n",
       "    }\n",
       "\n",
       "    .dataframe thead th {\n",
       "        text-align: right;\n",
       "    }\n",
       "</style>\n",
       "<table border=\"1\" class=\"dataframe\">\n",
       "  <thead>\n",
       "    <tr style=\"text-align: right;\">\n",
       "      <th></th>\n",
       "      <th>nama</th>\n",
       "      <th>tipe_barang</th>\n",
       "      <th>bulan</th>\n",
       "      <th>tahun</th>\n",
       "      <th>qty</th>\n",
       "      <th>profit</th>\n",
       "    </tr>\n",
       "  </thead>\n",
       "  <tbody>\n",
       "    <tr>\n",
       "      <th>3194</th>\n",
       "      <td>Alvin Kurniawan Hanafie</td>\n",
       "      <td>makanan</td>\n",
       "      <td>6</td>\n",
       "      <td>2015</td>\n",
       "      <td>1</td>\n",
       "      <td>10030</td>\n",
       "    </tr>\n",
       "  </tbody>\n",
       "</table>\n",
       "</div>"
      ],
      "text/plain": [
       "                         nama tipe_barang  bulan  tahun  qty  profit\n",
       "3194  Alvin Kurniawan Hanafie     makanan      6   2015    1   10030"
      ]
     },
     "execution_count": 45,
     "metadata": {},
     "output_type": "execute_result"
    }
   ],
   "source": [
    "food=df.loc[df[\"tipe_barang\"]==\"makanan\"]\n",
    "\n",
    "food.loc[food[\"profit\"]==food[\"profit\"].min()]"
   ]
  },
  {
   "cell_type": "markdown",
   "metadata": {},
   "source": [
    "6"
   ]
  },
  {
   "cell_type": "code",
   "execution_count": 40,
   "metadata": {},
   "outputs": [
    {
     "data": {
      "text/html": [
       "<div>\n",
       "<style scoped>\n",
       "    .dataframe tbody tr th:only-of-type {\n",
       "        vertical-align: middle;\n",
       "    }\n",
       "\n",
       "    .dataframe tbody tr th {\n",
       "        vertical-align: top;\n",
       "    }\n",
       "\n",
       "    .dataframe thead th {\n",
       "        text-align: right;\n",
       "    }\n",
       "</style>\n",
       "<table border=\"1\" class=\"dataframe\">\n",
       "  <thead>\n",
       "    <tr style=\"text-align: right;\">\n",
       "      <th></th>\n",
       "      <th>nama</th>\n",
       "      <th>tipe_barang</th>\n",
       "      <th>bulan</th>\n",
       "      <th>tahun</th>\n",
       "      <th>qty</th>\n",
       "      <th>profit</th>\n",
       "    </tr>\n",
       "  </thead>\n",
       "  <tbody>\n",
       "    <tr>\n",
       "      <th>5639</th>\n",
       "      <td>Robet Fransiska M A</td>\n",
       "      <td>alat masak</td>\n",
       "      <td>12</td>\n",
       "      <td>2017</td>\n",
       "      <td>20</td>\n",
       "      <td>199955</td>\n",
       "    </tr>\n",
       "    <tr>\n",
       "      <th>3861</th>\n",
       "      <td>Gregorius Gesta Danu Aji</td>\n",
       "      <td>makanan</td>\n",
       "      <td>2</td>\n",
       "      <td>2017</td>\n",
       "      <td>20</td>\n",
       "      <td>199877</td>\n",
       "    </tr>\n",
       "    <tr>\n",
       "      <th>3037</th>\n",
       "      <td>Dhimas Syahrial Fattah Inhardy</td>\n",
       "      <td>alat kebersihan</td>\n",
       "      <td>5</td>\n",
       "      <td>2017</td>\n",
       "      <td>20</td>\n",
       "      <td>199703</td>\n",
       "    </tr>\n",
       "    <tr>\n",
       "      <th>57</th>\n",
       "      <td>Resti Herwita Maharani</td>\n",
       "      <td>elektronik</td>\n",
       "      <td>11</td>\n",
       "      <td>2017</td>\n",
       "      <td>20</td>\n",
       "      <td>199687</td>\n",
       "    </tr>\n",
       "    <tr>\n",
       "      <th>5455</th>\n",
       "      <td>Bambang Muhammad Yusup</td>\n",
       "      <td>pakaian</td>\n",
       "      <td>1</td>\n",
       "      <td>2017</td>\n",
       "      <td>20</td>\n",
       "      <td>199573</td>\n",
       "    </tr>\n",
       "    <tr>\n",
       "      <th>4837</th>\n",
       "      <td>Mohamad Dika Arzaldi</td>\n",
       "      <td>alat kebersihan</td>\n",
       "      <td>6</td>\n",
       "      <td>2017</td>\n",
       "      <td>20</td>\n",
       "      <td>199543</td>\n",
       "    </tr>\n",
       "    <tr>\n",
       "      <th>1740</th>\n",
       "      <td>Yoval Julianto</td>\n",
       "      <td>minuman</td>\n",
       "      <td>10</td>\n",
       "      <td>2017</td>\n",
       "      <td>20</td>\n",
       "      <td>199190</td>\n",
       "    </tr>\n",
       "    <tr>\n",
       "      <th>3800</th>\n",
       "      <td>Muhammad Ihsan</td>\n",
       "      <td>alat kebersihan</td>\n",
       "      <td>4</td>\n",
       "      <td>2017</td>\n",
       "      <td>20</td>\n",
       "      <td>199076</td>\n",
       "    </tr>\n",
       "    <tr>\n",
       "      <th>6310</th>\n",
       "      <td>Marlina Siagian</td>\n",
       "      <td>elektronik</td>\n",
       "      <td>5</td>\n",
       "      <td>2017</td>\n",
       "      <td>20</td>\n",
       "      <td>199069</td>\n",
       "    </tr>\n",
       "    <tr>\n",
       "      <th>1886</th>\n",
       "      <td>Adhytia Azhari Rasyid</td>\n",
       "      <td>alat masak</td>\n",
       "      <td>8</td>\n",
       "      <td>2017</td>\n",
       "      <td>20</td>\n",
       "      <td>199039</td>\n",
       "    </tr>\n",
       "  </tbody>\n",
       "</table>\n",
       "</div>"
      ],
      "text/plain": [
       "                                nama      tipe_barang  bulan  tahun  qty  \\\n",
       "5639             Robet Fransiska M A       alat masak     12   2017   20   \n",
       "3861        Gregorius Gesta Danu Aji          makanan      2   2017   20   \n",
       "3037  Dhimas Syahrial Fattah Inhardy  alat kebersihan      5   2017   20   \n",
       "57            Resti Herwita Maharani       elektronik     11   2017   20   \n",
       "5455          Bambang Muhammad Yusup          pakaian      1   2017   20   \n",
       "4837            Mohamad Dika Arzaldi  alat kebersihan      6   2017   20   \n",
       "1740                  Yoval Julianto          minuman     10   2017   20   \n",
       "3800                  Muhammad Ihsan  alat kebersihan      4   2017   20   \n",
       "6310                 Marlina Siagian       elektronik      5   2017   20   \n",
       "1886           Adhytia Azhari Rasyid       alat masak      8   2017   20   \n",
       "\n",
       "      profit  \n",
       "5639  199955  \n",
       "3861  199877  \n",
       "3037  199703  \n",
       "57    199687  \n",
       "5455  199573  \n",
       "4837  199543  \n",
       "1740  199190  \n",
       "3800  199076  \n",
       "6310  199069  \n",
       "1886  199039  "
      ]
     },
     "execution_count": 40,
     "metadata": {},
     "output_type": "execute_result"
    }
   ],
   "source": [
    "y17=df.loc[df[\"tahun\"]==2017]\n",
    "\n",
    "y17.sort_values([\"profit\"], ascending=[False])[:10]"
   ]
  },
  {
   "cell_type": "markdown",
   "metadata": {},
   "source": [
    "7"
   ]
  },
  {
   "cell_type": "code",
   "execution_count": 42,
   "metadata": {},
   "outputs": [
    {
     "data": {
      "text/plain": [
       "2016    2039\n",
       "2014    2028\n",
       "2017    1963\n",
       "2015    1929\n",
       "Name: tahun, dtype: int64"
      ]
     },
     "execution_count": 42,
     "metadata": {},
     "output_type": "execute_result"
    }
   ],
   "source": [
    "df[\"tahun\"].value_counts()"
   ]
  },
  {
   "cell_type": "markdown",
   "metadata": {},
   "source": [
    "8"
   ]
  },
  {
   "cell_type": "code",
   "execution_count": 48,
   "metadata": {},
   "outputs": [
    {
     "name": "stdout",
     "output_type": "stream",
     "text": [
      "                             nama      tipe_barang  bulan  tahun  qty  profit\n",
      "90         Ilyas Nurfadhil Basuki       elektronik     12   2016    9   87073\n",
      "107              Atika Sari Pohan  alat kebersihan     12   2016   12  117838\n",
      "135            Muhammad Irvandi H          makanan     12   2016   14  137446\n",
      "141   Fima Rachmawati Abdurachman          makanan     12   2016   16  156836\n",
      "143                     Armiyanti       elektronik     12   2016   19  181930\n",
      "...                           ...              ...    ...    ...  ...     ...\n",
      "7770            Dimas Pramudyanto       alat makan     12   2016   11  111396\n",
      "7796         Achmad Chafid Asyary       elektronik     12   2016   15  144891\n",
      "7805                         Ifan       alat masak     12   2016    1   10291\n",
      "7810                Rizky Rahmany       elektronik     12   2016    5   57285\n",
      "7852         Muhammad Ridho Mukti       alat makan     12   2016    4   42164\n",
      "\n",
      "[175 rows x 6 columns]\n"
     ]
    },
    {
     "data": {
      "text/plain": [
       "102165.02857142857"
      ]
     },
     "execution_count": 48,
     "metadata": {},
     "output_type": "execute_result"
    }
   ],
   "source": [
    "y16m12=df.loc[(df[\"tahun\"]==2016) & (df[\"bulan\"]==12)]\n",
    "\n",
    "print(y16m12)\n",
    "\n",
    "y16m12[\"profit\"].mean()"
   ]
  },
  {
   "cell_type": "markdown",
   "metadata": {},
   "source": [
    "9"
   ]
  },
  {
   "cell_type": "code",
   "execution_count": 50,
   "metadata": {},
   "outputs": [
    {
     "data": {
      "text/plain": [
       "54045.06698145228"
      ]
     },
     "execution_count": 50,
     "metadata": {},
     "output_type": "execute_result"
    }
   ],
   "source": [
    "clothes=df.loc[df[\"tipe_barang\"]==\"pakaian\"]\n",
    "\n",
    "clothes[\"profit\"].std()"
   ]
  },
  {
   "cell_type": "markdown",
   "metadata": {},
   "source": [
    "10"
   ]
  },
  {
   "cell_type": "code",
   "execution_count": 51,
   "metadata": {},
   "outputs": [
    {
     "data": {
      "text/plain": [
       "104515.56380952381"
      ]
     },
     "execution_count": 51,
     "metadata": {},
     "output_type": "execute_result"
    }
   ],
   "source": [
    "clothesy16=clothes.loc[clothes[\"tahun\"]<2016]\n",
    "\n",
    "clothesy16[\"profit\"].mean()"
   ]
  },
  {
   "cell_type": "markdown",
   "metadata": {},
   "source": [
    "11"
   ]
  },
  {
   "cell_type": "code",
   "execution_count": 53,
   "metadata": {},
   "outputs": [
    {
     "name": "stdout",
     "output_type": "stream",
     "text": [
      "0.9758538110359279\n"
     ]
    }
   ],
   "source": [
    "print(df[\"qty\"].corr(df[\"profit\"])) # berkorelasi positif"
   ]
  }
 ],
 "metadata": {
  "kernelspec": {
   "display_name": "Python 3.10.5 64-bit",
   "language": "python",
   "name": "python3"
  },
  "language_info": {
   "codemirror_mode": {
    "name": "ipython",
    "version": 3
   },
   "file_extension": ".py",
   "mimetype": "text/x-python",
   "name": "python",
   "nbconvert_exporter": "python",
   "pygments_lexer": "ipython3",
   "version": "3.10.5"
  },
  "orig_nbformat": 4,
  "vscode": {
   "interpreter": {
    "hash": "f2ccb58c476f33ba3e3aee7ac07234ef6b8217ef24ad64d2a7d4fed1a57c1cd2"
   }
  }
 },
 "nbformat": 4,
 "nbformat_minor": 2
}
