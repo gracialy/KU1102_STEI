{
 "cells": [
  {
   "cell_type": "code",
   "execution_count": null,
   "metadata": {},
   "outputs": [],
   "source": [
    "# NIM/Nama  : 19622217/Lydia Gracia\n",
    "# Tanggal   :\n",
    "# Deskripsi : Program memeriksa ...; input: ...; output: ...\n",
    "\n",
    "# KAMUS\n",
    "'''jenis data variabel'''\n",
    "'''contoh: int, str, bool'''"
   ]
  },
  {
   "cell_type": "markdown",
   "metadata": {},
   "source": [
    "0"
   ]
  },
  {
   "cell_type": "code",
   "execution_count": 1,
   "metadata": {},
   "outputs": [
    {
     "name": "stdout",
     "output_type": "stream",
     "text": [
      "                city  area  rooms  bathroom  parking_spaces  floor     animal  \\\n",
      "0          Sao Paulo    70      2         1               1      7      acept   \n",
      "1          Sao Paulo   320      4         4               0     20      acept   \n",
      "2       Porto Alegre    80      1         1               1      6      acept   \n",
      "3       Porto Alegre    51      2         1               0      2      acept   \n",
      "4          Sao Paulo    25      1         1               0      1  not acept   \n",
      "...              ...   ...    ...       ...             ...    ...        ...   \n",
      "8226       Sao Paulo   150      3         3               2      8  not acept   \n",
      "8227    Porto Alegre    63      2         1               1      5  not acept   \n",
      "8228       Sao Paulo   285      4         4               4     17      acept   \n",
      "8229  Rio de Janeiro    70      3         3               0      8  not acept   \n",
      "8230  Rio de Janeiro   120      2         2               2      8      acept   \n",
      "\n",
      "          furniture  homeowner_tax  rent_amount  property_tax  fire_insurance  \\\n",
      "0         furnished           2065         3300           211              42   \n",
      "1     not furnished           1200         4960          1750              63   \n",
      "2     not furnished           1000         2800             0              41   \n",
      "3     not furnished            270         1112            22              17   \n",
      "4     not furnished              0          800            25              11   \n",
      "...             ...            ...          ...           ...             ...   \n",
      "8226      furnished              0        13500             0             172   \n",
      "8227      furnished            402         1478            24              22   \n",
      "8228  not furnished           3100        15000           973             191   \n",
      "8229      furnished            980         6000           332              78   \n",
      "8230      furnished           1585        12000           279             155   \n",
      "\n",
      "      total  \n",
      "0      5618  \n",
      "1      7973  \n",
      "2      3841  \n",
      "3      1421  \n",
      "4       836  \n",
      "...     ...  \n",
      "8226  13670  \n",
      "8227   1926  \n",
      "8228  19260  \n",
      "8229   7390  \n",
      "8230  14020  \n",
      "\n",
      "[8231 rows x 13 columns]\n"
     ]
    }
   ],
   "source": [
    "import pandas as pd\n",
    "\n",
    "df=pd.read_csv(\"P05-02.csv\")\n",
    "\n",
    "print(df)"
   ]
  },
  {
   "cell_type": "markdown",
   "metadata": {},
   "source": [
    "1. Ada berapa rumah di Porto Alegre dengan luas di atas 150?"
   ]
  },
  {
   "cell_type": "code",
   "execution_count": 15,
   "metadata": {},
   "outputs": [
    {
     "data": {
      "text/plain": [
       "81"
      ]
     },
     "execution_count": 15,
     "metadata": {},
     "output_type": "execute_result"
    }
   ],
   "source": [
    "import pandas as pd\n",
    "\n",
    "df=pd.read_csv(\"P05-02.csv\")\n",
    "\n",
    "len(df.loc[(df[\"city\"] == \"Porto Alegre\") & (df[\"area\"]>150)])"
   ]
  },
  {
   "cell_type": "markdown",
   "metadata": {},
   "source": [
    "2. Data rumah dengan pajak bangunan per tahun terbesar."
   ]
  },
  {
   "cell_type": "code",
   "execution_count": 7,
   "metadata": {},
   "outputs": [
    {
     "data": {
      "text/html": [
       "<div>\n",
       "<style scoped>\n",
       "    .dataframe tbody tr th:only-of-type {\n",
       "        vertical-align: middle;\n",
       "    }\n",
       "\n",
       "    .dataframe tbody tr th {\n",
       "        vertical-align: top;\n",
       "    }\n",
       "\n",
       "    .dataframe thead th {\n",
       "        text-align: right;\n",
       "    }\n",
       "</style>\n",
       "<table border=\"1\" class=\"dataframe\">\n",
       "  <thead>\n",
       "    <tr style=\"text-align: right;\">\n",
       "      <th></th>\n",
       "      <th>city</th>\n",
       "      <th>area</th>\n",
       "      <th>rooms</th>\n",
       "      <th>bathroom</th>\n",
       "      <th>parking_spaces</th>\n",
       "      <th>floor</th>\n",
       "      <th>animal</th>\n",
       "      <th>furniture</th>\n",
       "      <th>homeowner_tax</th>\n",
       "      <th>rent_amount</th>\n",
       "      <th>property_tax</th>\n",
       "      <th>fire_insurance</th>\n",
       "      <th>total</th>\n",
       "    </tr>\n",
       "  </thead>\n",
       "  <tbody>\n",
       "    <tr>\n",
       "      <th>5114</th>\n",
       "      <td>Sao Paulo</td>\n",
       "      <td>42</td>\n",
       "      <td>1</td>\n",
       "      <td>2</td>\n",
       "      <td>1</td>\n",
       "      <td>6</td>\n",
       "      <td>not acept</td>\n",
       "      <td>not furnished</td>\n",
       "      <td>690</td>\n",
       "      <td>2500</td>\n",
       "      <td>313700</td>\n",
       "      <td>32</td>\n",
       "      <td>316900</td>\n",
       "    </tr>\n",
       "  </tbody>\n",
       "</table>\n",
       "</div>"
      ],
      "text/plain": [
       "           city  area  rooms  bathroom  parking_spaces  floor     animal  \\\n",
       "5114  Sao Paulo    42      1         2               1      6  not acept   \n",
       "\n",
       "          furniture  homeowner_tax  rent_amount  property_tax  fire_insurance  \\\n",
       "5114  not furnished            690         2500        313700              32   \n",
       "\n",
       "       total  \n",
       "5114  316900  "
      ]
     },
     "execution_count": 7,
     "metadata": {},
     "output_type": "execute_result"
    }
   ],
   "source": [
    "import pandas as pd\n",
    "\n",
    "df=pd.read_csv(\"P05-02.csv\")\n",
    "\n",
    "df.loc[df[\"property_tax\"]==df[\"property_tax\"].max()]"
   ]
  },
  {
   "cell_type": "markdown",
   "metadata": {},
   "source": [
    "3. Ada berapa rumah dengan jumlah lantai 1 dan jumlah kamar tidur di atas 2?."
   ]
  },
  {
   "cell_type": "code",
   "execution_count": 9,
   "metadata": {},
   "outputs": [
    {
     "data": {
      "text/plain": [
       "394"
      ]
     },
     "execution_count": 9,
     "metadata": {},
     "output_type": "execute_result"
    }
   ],
   "source": [
    "import pandas as pd\n",
    "\n",
    "df=pd.read_csv(\"P05-02.csv\")\n",
    "\n",
    "len(df.loc[(df[\"floor\"]==1) & (df[\"rooms\"]>2)])"
   ]
  },
  {
   "cell_type": "markdown",
   "metadata": {},
   "source": [
    "4. Banyak rumah yang sudah dilengkapi furnitur (furnished) untuk masing-masing kota."
   ]
  },
  {
   "cell_type": "code",
   "execution_count": 11,
   "metadata": {},
   "outputs": [
    {
     "data": {
      "text/plain": [
       "Sao Paulo         1355\n",
       "Rio de Janeiro     393\n",
       "Porto Alegre       274\n",
       "Belo Horizonte     133\n",
       "Campinas            97\n",
       "Name: city, dtype: int64"
      ]
     },
     "execution_count": 11,
     "metadata": {},
     "output_type": "execute_result"
    }
   ],
   "source": [
    "import pandas as pd\n",
    "\n",
    "df=pd.read_csv(\"P05-02.csv\")\n",
    "\n",
    "furnished=df.loc[df[\"furniture\"]==\"furnished\"]\n",
    "furnished[\"city\"].value_counts()"
   ]
  },
  {
   "cell_type": "markdown",
   "metadata": {},
   "source": [
    "5. 5 data rumah dengan harga sewa total per tahun termurah yang berada di kota Campinas."
   ]
  },
  {
   "cell_type": "code",
   "execution_count": 16,
   "metadata": {},
   "outputs": [
    {
     "data": {
      "text/html": [
       "<div>\n",
       "<style scoped>\n",
       "    .dataframe tbody tr th:only-of-type {\n",
       "        vertical-align: middle;\n",
       "    }\n",
       "\n",
       "    .dataframe tbody tr th {\n",
       "        vertical-align: top;\n",
       "    }\n",
       "\n",
       "    .dataframe thead th {\n",
       "        text-align: right;\n",
       "    }\n",
       "</style>\n",
       "<table border=\"1\" class=\"dataframe\">\n",
       "  <thead>\n",
       "    <tr style=\"text-align: right;\">\n",
       "      <th></th>\n",
       "      <th>city</th>\n",
       "      <th>area</th>\n",
       "      <th>rooms</th>\n",
       "      <th>bathroom</th>\n",
       "      <th>parking_spaces</th>\n",
       "      <th>floor</th>\n",
       "      <th>animal</th>\n",
       "      <th>furniture</th>\n",
       "      <th>homeowner_tax</th>\n",
       "      <th>rent_amount</th>\n",
       "      <th>property_tax</th>\n",
       "      <th>fire_insurance</th>\n",
       "      <th>total</th>\n",
       "    </tr>\n",
       "  </thead>\n",
       "  <tbody>\n",
       "    <tr>\n",
       "      <th>4788</th>\n",
       "      <td>Campinas</td>\n",
       "      <td>42</td>\n",
       "      <td>1</td>\n",
       "      <td>1</td>\n",
       "      <td>0</td>\n",
       "      <td>1</td>\n",
       "      <td>acept</td>\n",
       "      <td>not furnished</td>\n",
       "      <td>0</td>\n",
       "      <td>690</td>\n",
       "      <td>12</td>\n",
       "      <td>9</td>\n",
       "      <td>711</td>\n",
       "    </tr>\n",
       "    <tr>\n",
       "      <th>2989</th>\n",
       "      <td>Campinas</td>\n",
       "      <td>45</td>\n",
       "      <td>1</td>\n",
       "      <td>1</td>\n",
       "      <td>0</td>\n",
       "      <td>14</td>\n",
       "      <td>not acept</td>\n",
       "      <td>not furnished</td>\n",
       "      <td>285</td>\n",
       "      <td>500</td>\n",
       "      <td>0</td>\n",
       "      <td>7</td>\n",
       "      <td>792</td>\n",
       "    </tr>\n",
       "    <tr>\n",
       "      <th>6204</th>\n",
       "      <td>Campinas</td>\n",
       "      <td>30</td>\n",
       "      <td>1</td>\n",
       "      <td>1</td>\n",
       "      <td>0</td>\n",
       "      <td>15</td>\n",
       "      <td>acept</td>\n",
       "      <td>not furnished</td>\n",
       "      <td>280</td>\n",
       "      <td>500</td>\n",
       "      <td>10</td>\n",
       "      <td>7</td>\n",
       "      <td>797</td>\n",
       "    </tr>\n",
       "    <tr>\n",
       "      <th>2610</th>\n",
       "      <td>Campinas</td>\n",
       "      <td>45</td>\n",
       "      <td>1</td>\n",
       "      <td>1</td>\n",
       "      <td>0</td>\n",
       "      <td>1</td>\n",
       "      <td>acept</td>\n",
       "      <td>not furnished</td>\n",
       "      <td>0</td>\n",
       "      <td>770</td>\n",
       "      <td>34</td>\n",
       "      <td>10</td>\n",
       "      <td>814</td>\n",
       "    </tr>\n",
       "    <tr>\n",
       "      <th>6546</th>\n",
       "      <td>Campinas</td>\n",
       "      <td>45</td>\n",
       "      <td>1</td>\n",
       "      <td>1</td>\n",
       "      <td>0</td>\n",
       "      <td>1</td>\n",
       "      <td>acept</td>\n",
       "      <td>not furnished</td>\n",
       "      <td>0</td>\n",
       "      <td>770</td>\n",
       "      <td>34</td>\n",
       "      <td>10</td>\n",
       "      <td>814</td>\n",
       "    </tr>\n",
       "  </tbody>\n",
       "</table>\n",
       "</div>"
      ],
      "text/plain": [
       "          city  area  rooms  bathroom  parking_spaces  floor     animal  \\\n",
       "4788  Campinas    42      1         1               0      1      acept   \n",
       "2989  Campinas    45      1         1               0     14  not acept   \n",
       "6204  Campinas    30      1         1               0     15      acept   \n",
       "2610  Campinas    45      1         1               0      1      acept   \n",
       "6546  Campinas    45      1         1               0      1      acept   \n",
       "\n",
       "          furniture  homeowner_tax  rent_amount  property_tax  fire_insurance  \\\n",
       "4788  not furnished              0          690            12               9   \n",
       "2989  not furnished            285          500             0               7   \n",
       "6204  not furnished            280          500            10               7   \n",
       "2610  not furnished              0          770            34              10   \n",
       "6546  not furnished              0          770            34              10   \n",
       "\n",
       "      total  \n",
       "4788    711  \n",
       "2989    792  \n",
       "6204    797  \n",
       "2610    814  \n",
       "6546    814  "
      ]
     },
     "execution_count": 16,
     "metadata": {},
     "output_type": "execute_result"
    }
   ],
   "source": [
    "import pandas as pd\n",
    "\n",
    "df=pd.read_csv(\"P05-02.csv\")\n",
    "\n",
    "campinas=df.loc[df[\"city\"]==\"Campinas\"]\n",
    "campinas.sort_values([\"total\"], ascending=[True])[:5]"
   ]
  }
 ],
 "metadata": {
  "kernelspec": {
   "display_name": "Python 3.10.5 64-bit",
   "language": "python",
   "name": "python3"
  },
  "language_info": {
   "codemirror_mode": {
    "name": "ipython",
    "version": 3
   },
   "file_extension": ".py",
   "mimetype": "text/x-python",
   "name": "python",
   "nbconvert_exporter": "python",
   "pygments_lexer": "ipython3",
   "version": "3.10.5"
  },
  "orig_nbformat": 4,
  "vscode": {
   "interpreter": {
    "hash": "f2ccb58c476f33ba3e3aee7ac07234ef6b8217ef24ad64d2a7d4fed1a57c1cd2"
   }
  }
 },
 "nbformat": 4,
 "nbformat_minor": 2
}
