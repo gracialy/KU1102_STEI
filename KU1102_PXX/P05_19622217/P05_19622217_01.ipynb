{
  "nbformat": 4,
  "nbformat_minor": 0,
  "metadata": {
    "colab": {
      "provenance": []
    },
    "kernelspec": {
      "name": "python3",
      "display_name": "Python 3"
    },
    "language_info": {
      "name": "python"
    }
  },
  "cells": [
    {
      "cell_type": "code",
      "execution_count": null,
      "metadata": {
        "id": "5SYf9dpk1jMB"
      },
      "outputs": [],
      "source": [
        "# NIM/Nama: 19622217/Lydia Gracia\n",
        "# Tanggal: 23 November 2022\n",
        "# Deskripsi: Diberikan data harga rumah yang disewakan di Airbnb di Singapura dalam file P05-03.csv"
      ]
    },
    {
      "cell_type": "markdown",
      "source": [
        "1. Banyaknya rumah masing-masing neighbourhood."
      ],
      "metadata": {
        "id": "Wn2Ap2-K2ege"
      }
    },
    {
      "cell_type": "code",
      "source": [
        "import pandas as pd\n",
        "\n",
        "# KAMUS\n",
        "# df: dataframe\n",
        "\n",
        "# pandas membaca file P05-03.csv\n",
        "df=pd.read_csv(\"P05-03.csv\")\n",
        "\n",
        "# test read\n",
        "# pd.read_csv(\"P05-03.csv\")\n",
        "\n",
        "# mendaftar kemunculan tiap neighbourhood pada data\n",
        "df[\"neighbourhood\"].value_counts()"
      ],
      "metadata": {
        "colab": {
          "base_uri": "https://localhost:8080/"
        },
        "id": "-xbOzfUP2fmZ",
        "outputId": "b1bf84d4-0454-4fc8-e66d-c6e50435010d"
      },
      "execution_count": null,
      "outputs": [
        {
          "output_type": "execute_result",
          "data": {
            "text/plain": [
              "Kallang                    1043\n",
              "Geylang                     994\n",
              "Novena                      537\n",
              "Rochor                      536\n",
              "Outram                      477\n",
              "Bukit Merah                 470\n",
              "Downtown Core               428\n",
              "Bedok                       373\n",
              "River Valley                362\n",
              "Queenstown                  266\n",
              "Tanglin                     210\n",
              "Singapore River             175\n",
              "Marine Parade               171\n",
              "Jurong West                 153\n",
              "Orchard                     136\n",
              "Newton                      134\n",
              "Bukit Timah                 131\n",
              "Jurong East                 118\n",
              "Hougang                     109\n",
              "Clementi                    102\n",
              "Toa Payoh                   101\n",
              "Pasir Ris                    71\n",
              "Serangoon                    69\n",
              "Sengkang                     67\n",
              "Woodlands                    67\n",
              "Bukit Batok                  65\n",
              "Tampines                     64\n",
              "Museum                       63\n",
              "Choa Chu Kang                63\n",
              "Ang Mo Kio                   58\n",
              "Bishan                       57\n",
              "Yishun                       53\n",
              "Punggol                      43\n",
              "Sembawang                    41\n",
              "Bukit Panjang                34\n",
              "Central Water Catchment      34\n",
              "Southern Islands             17\n",
              "Sungei Kadut                  5\n",
              "Western Water Catchment       4\n",
              "Mandai                        3\n",
              "Tuas                          1\n",
              "Marina South                  1\n",
              "Lim Chu Kang                  1\n",
              "Name: neighbourhood, dtype: int64"
            ]
          },
          "metadata": {},
          "execution_count": 4
        }
      ]
    },
    {
      "cell_type": "markdown",
      "source": [
        "2. Jumlah malam penyewaan minimum terbanyak."
      ],
      "metadata": {
        "id": "FgENPmU02yKG"
      }
    },
    {
      "cell_type": "code",
      "source": [
        "import pandas as pd\n",
        "\n",
        "# KAMUS\n",
        "# df: dataframe\n",
        "\n",
        "df=pd.read_csv(\"P05-03.csv\")\n",
        "\n",
        "# mengambil jumlah minimum_nights maksimum\n",
        "df[\"minimum_nights\"].max()"
      ],
      "metadata": {
        "colab": {
          "base_uri": "https://localhost:8080/"
        },
        "id": "dK48S9ds3cR1",
        "outputId": "ffe1591c-d0d3-481c-a090-3604726e76e5"
      },
      "execution_count": null,
      "outputs": [
        {
          "output_type": "execute_result",
          "data": {
            "text/plain": [
              "1000"
            ]
          },
          "metadata": {},
          "execution_count": 19
        }
      ]
    },
    {
      "cell_type": "markdown",
      "source": [
        "3. 5 data dengan posisi paling selatan (longitude minimum)."
      ],
      "metadata": {
        "id": "BSDkv7q53c_-"
      }
    },
    {
      "cell_type": "code",
      "source": [
        "import pandas as pd\n",
        "\n",
        "# KAMUS\n",
        "# df: dataframe\n",
        "\n",
        "df=pd.read_csv(\"P05-03.csv\")\n",
        "\n",
        "# mengurutkan data berdasarkan longitude menaik\n",
        "# kemudian mengambil 5 data pertama\n",
        "df.sort_values([\"longitude\"], ascending=[True])[:5]"
      ],
      "metadata": {
        "colab": {
          "base_uri": "https://localhost:8080/",
          "height": 531
        },
        "id": "u7vaYn1c3eut",
        "outputId": "30b127f6-5244-494c-b15f-67491d12313d"
      },
      "execution_count": null,
      "outputs": [
        {
          "output_type": "execute_result",
          "data": {
            "text/plain": [
              "            id                                             name    host_id  \\\n",
              "2978  20791161  YOUR entire PRIVATE LUXURY PENTHOUSE condo unit  122991242   \n",
              "1655  13756029                 Master room 151 Ang Mo Kio Ave 5   76690273   \n",
              "2767  19758047                                      Ryan's Home  128313510   \n",
              "1430  12261620      Fresh & modern 2 bedroom suite opposite NTU    4673970   \n",
              "3335  21953185             Nearest to NTU Singapore(南洋理工大学附近房间)  147505789   \n",
              "\n",
              "       host_name neighbourhood_group            neighbourhood  latitude  \\\n",
              "2978          Jj         West Region                     Tuas   1.31909   \n",
              "1655  光雄 Terence         West Region  Western Water Catchment   1.40620   \n",
              "2767         Fan         West Region  Western Water Catchment   1.35424   \n",
              "1430      Pamela         West Region              Jurong West   1.34110   \n",
              "3335      Albert         West Region              Jurong West   1.34127   \n",
              "\n",
              "      longitude        room_type  price  minimum_nights  number_of_reviews  \\\n",
              "2978  103.64656  Entire home/apt  10000               2                  5   \n",
              "1655  103.66547  Entire home/apt     60             180                  2   \n",
              "2767  103.68162     Private room     31               1                  1   \n",
              "1430  103.68520  Entire home/apt     81             180                  0   \n",
              "3335  103.68536     Private room     50             180                  0   \n",
              "\n",
              "     last_review  reviews_per_month  calculated_host_listings_count  \\\n",
              "2978  2017-10-31               0.21                               1   \n",
              "1655  2016-07-07               0.05                               1   \n",
              "2767  2017-07-12               0.04                               1   \n",
              "1430         NaN                NaN                               1   \n",
              "3335         NaN                NaN                               1   \n",
              "\n",
              "      availability_365  \n",
              "2978                89  \n",
              "1655               364  \n",
              "2767                 0  \n",
              "1430                 0  \n",
              "3335               365  "
            ],
            "text/html": [
              "\n",
              "  <div id=\"df-342c195e-02d0-40f1-8a00-4a4368f4aee3\">\n",
              "    <div class=\"colab-df-container\">\n",
              "      <div>\n",
              "<style scoped>\n",
              "    .dataframe tbody tr th:only-of-type {\n",
              "        vertical-align: middle;\n",
              "    }\n",
              "\n",
              "    .dataframe tbody tr th {\n",
              "        vertical-align: top;\n",
              "    }\n",
              "\n",
              "    .dataframe thead th {\n",
              "        text-align: right;\n",
              "    }\n",
              "</style>\n",
              "<table border=\"1\" class=\"dataframe\">\n",
              "  <thead>\n",
              "    <tr style=\"text-align: right;\">\n",
              "      <th></th>\n",
              "      <th>id</th>\n",
              "      <th>name</th>\n",
              "      <th>host_id</th>\n",
              "      <th>host_name</th>\n",
              "      <th>neighbourhood_group</th>\n",
              "      <th>neighbourhood</th>\n",
              "      <th>latitude</th>\n",
              "      <th>longitude</th>\n",
              "      <th>room_type</th>\n",
              "      <th>price</th>\n",
              "      <th>minimum_nights</th>\n",
              "      <th>number_of_reviews</th>\n",
              "      <th>last_review</th>\n",
              "      <th>reviews_per_month</th>\n",
              "      <th>calculated_host_listings_count</th>\n",
              "      <th>availability_365</th>\n",
              "    </tr>\n",
              "  </thead>\n",
              "  <tbody>\n",
              "    <tr>\n",
              "      <th>2978</th>\n",
              "      <td>20791161</td>\n",
              "      <td>YOUR entire PRIVATE LUXURY PENTHOUSE condo unit</td>\n",
              "      <td>122991242</td>\n",
              "      <td>Jj</td>\n",
              "      <td>West Region</td>\n",
              "      <td>Tuas</td>\n",
              "      <td>1.31909</td>\n",
              "      <td>103.64656</td>\n",
              "      <td>Entire home/apt</td>\n",
              "      <td>10000</td>\n",
              "      <td>2</td>\n",
              "      <td>5</td>\n",
              "      <td>2017-10-31</td>\n",
              "      <td>0.21</td>\n",
              "      <td>1</td>\n",
              "      <td>89</td>\n",
              "    </tr>\n",
              "    <tr>\n",
              "      <th>1655</th>\n",
              "      <td>13756029</td>\n",
              "      <td>Master room 151 Ang Mo Kio Ave 5</td>\n",
              "      <td>76690273</td>\n",
              "      <td>光雄 Terence</td>\n",
              "      <td>West Region</td>\n",
              "      <td>Western Water Catchment</td>\n",
              "      <td>1.40620</td>\n",
              "      <td>103.66547</td>\n",
              "      <td>Entire home/apt</td>\n",
              "      <td>60</td>\n",
              "      <td>180</td>\n",
              "      <td>2</td>\n",
              "      <td>2016-07-07</td>\n",
              "      <td>0.05</td>\n",
              "      <td>1</td>\n",
              "      <td>364</td>\n",
              "    </tr>\n",
              "    <tr>\n",
              "      <th>2767</th>\n",
              "      <td>19758047</td>\n",
              "      <td>Ryan's Home</td>\n",
              "      <td>128313510</td>\n",
              "      <td>Fan</td>\n",
              "      <td>West Region</td>\n",
              "      <td>Western Water Catchment</td>\n",
              "      <td>1.35424</td>\n",
              "      <td>103.68162</td>\n",
              "      <td>Private room</td>\n",
              "      <td>31</td>\n",
              "      <td>1</td>\n",
              "      <td>1</td>\n",
              "      <td>2017-07-12</td>\n",
              "      <td>0.04</td>\n",
              "      <td>1</td>\n",
              "      <td>0</td>\n",
              "    </tr>\n",
              "    <tr>\n",
              "      <th>1430</th>\n",
              "      <td>12261620</td>\n",
              "      <td>Fresh &amp; modern 2 bedroom suite opposite NTU</td>\n",
              "      <td>4673970</td>\n",
              "      <td>Pamela</td>\n",
              "      <td>West Region</td>\n",
              "      <td>Jurong West</td>\n",
              "      <td>1.34110</td>\n",
              "      <td>103.68520</td>\n",
              "      <td>Entire home/apt</td>\n",
              "      <td>81</td>\n",
              "      <td>180</td>\n",
              "      <td>0</td>\n",
              "      <td>NaN</td>\n",
              "      <td>NaN</td>\n",
              "      <td>1</td>\n",
              "      <td>0</td>\n",
              "    </tr>\n",
              "    <tr>\n",
              "      <th>3335</th>\n",
              "      <td>21953185</td>\n",
              "      <td>Nearest to NTU Singapore(南洋理工大学附近房间)</td>\n",
              "      <td>147505789</td>\n",
              "      <td>Albert</td>\n",
              "      <td>West Region</td>\n",
              "      <td>Jurong West</td>\n",
              "      <td>1.34127</td>\n",
              "      <td>103.68536</td>\n",
              "      <td>Private room</td>\n",
              "      <td>50</td>\n",
              "      <td>180</td>\n",
              "      <td>0</td>\n",
              "      <td>NaN</td>\n",
              "      <td>NaN</td>\n",
              "      <td>1</td>\n",
              "      <td>365</td>\n",
              "    </tr>\n",
              "  </tbody>\n",
              "</table>\n",
              "</div>\n",
              "      <button class=\"colab-df-convert\" onclick=\"convertToInteractive('df-342c195e-02d0-40f1-8a00-4a4368f4aee3')\"\n",
              "              title=\"Convert this dataframe to an interactive table.\"\n",
              "              style=\"display:none;\">\n",
              "        \n",
              "  <svg xmlns=\"http://www.w3.org/2000/svg\" height=\"24px\"viewBox=\"0 0 24 24\"\n",
              "       width=\"24px\">\n",
              "    <path d=\"M0 0h24v24H0V0z\" fill=\"none\"/>\n",
              "    <path d=\"M18.56 5.44l.94 2.06.94-2.06 2.06-.94-2.06-.94-.94-2.06-.94 2.06-2.06.94zm-11 1L8.5 8.5l.94-2.06 2.06-.94-2.06-.94L8.5 2.5l-.94 2.06-2.06.94zm10 10l.94 2.06.94-2.06 2.06-.94-2.06-.94-.94-2.06-.94 2.06-2.06.94z\"/><path d=\"M17.41 7.96l-1.37-1.37c-.4-.4-.92-.59-1.43-.59-.52 0-1.04.2-1.43.59L10.3 9.45l-7.72 7.72c-.78.78-.78 2.05 0 2.83L4 21.41c.39.39.9.59 1.41.59.51 0 1.02-.2 1.41-.59l7.78-7.78 2.81-2.81c.8-.78.8-2.07 0-2.86zM5.41 20L4 18.59l7.72-7.72 1.47 1.35L5.41 20z\"/>\n",
              "  </svg>\n",
              "      </button>\n",
              "      \n",
              "  <style>\n",
              "    .colab-df-container {\n",
              "      display:flex;\n",
              "      flex-wrap:wrap;\n",
              "      gap: 12px;\n",
              "    }\n",
              "\n",
              "    .colab-df-convert {\n",
              "      background-color: #E8F0FE;\n",
              "      border: none;\n",
              "      border-radius: 50%;\n",
              "      cursor: pointer;\n",
              "      display: none;\n",
              "      fill: #1967D2;\n",
              "      height: 32px;\n",
              "      padding: 0 0 0 0;\n",
              "      width: 32px;\n",
              "    }\n",
              "\n",
              "    .colab-df-convert:hover {\n",
              "      background-color: #E2EBFA;\n",
              "      box-shadow: 0px 1px 2px rgba(60, 64, 67, 0.3), 0px 1px 3px 1px rgba(60, 64, 67, 0.15);\n",
              "      fill: #174EA6;\n",
              "    }\n",
              "\n",
              "    [theme=dark] .colab-df-convert {\n",
              "      background-color: #3B4455;\n",
              "      fill: #D2E3FC;\n",
              "    }\n",
              "\n",
              "    [theme=dark] .colab-df-convert:hover {\n",
              "      background-color: #434B5C;\n",
              "      box-shadow: 0px 1px 3px 1px rgba(0, 0, 0, 0.15);\n",
              "      filter: drop-shadow(0px 1px 2px rgba(0, 0, 0, 0.3));\n",
              "      fill: #FFFFFF;\n",
              "    }\n",
              "  </style>\n",
              "\n",
              "      <script>\n",
              "        const buttonEl =\n",
              "          document.querySelector('#df-342c195e-02d0-40f1-8a00-4a4368f4aee3 button.colab-df-convert');\n",
              "        buttonEl.style.display =\n",
              "          google.colab.kernel.accessAllowed ? 'block' : 'none';\n",
              "\n",
              "        async function convertToInteractive(key) {\n",
              "          const element = document.querySelector('#df-342c195e-02d0-40f1-8a00-4a4368f4aee3');\n",
              "          const dataTable =\n",
              "            await google.colab.kernel.invokeFunction('convertToInteractive',\n",
              "                                                     [key], {});\n",
              "          if (!dataTable) return;\n",
              "\n",
              "          const docLinkHtml = 'Like what you see? Visit the ' +\n",
              "            '<a target=\"_blank\" href=https://colab.research.google.com/notebooks/data_table.ipynb>data table notebook</a>'\n",
              "            + ' to learn more about interactive tables.';\n",
              "          element.innerHTML = '';\n",
              "          dataTable['output_type'] = 'display_data';\n",
              "          await google.colab.output.renderOutput(dataTable, element);\n",
              "          const docLink = document.createElement('div');\n",
              "          docLink.innerHTML = docLinkHtml;\n",
              "          element.appendChild(docLink);\n",
              "        }\n",
              "      </script>\n",
              "    </div>\n",
              "  </div>\n",
              "  "
            ]
          },
          "metadata": {},
          "execution_count": 20
        }
      ]
    },
    {
      "cell_type": "markdown",
      "source": [
        "4. Rumah yang ada di neighbourhood group West Region."
      ],
      "metadata": {
        "id": "bvsy4Zwg3gOF"
      }
    },
    {
      "cell_type": "code",
      "source": [
        "import pandas as pd\n",
        "\n",
        "# KAMUS\n",
        "# df: dataframe\n",
        "\n",
        "df=pd.read_csv(\"P05-03.csv\")\n",
        "\n",
        "# mengambil data rumah yang berada di neighbourhood group West Region\n",
        "df.loc[df[\"neighbourhood_group\"]==\"West Region\"][\"name\"]\n"
      ],
      "metadata": {
        "colab": {
          "base_uri": "https://localhost:8080/"
        },
        "id": "VLN37rPC4-Jj",
        "outputId": "ed8fa564-4e15-4545-fd41-7f0d33ac73a0"
      },
      "execution_count": null,
      "outputs": [
        {
          "output_type": "execute_result",
          "data": {
            "text/plain": [
              "24                  Comfortable Condo Room - Boon Lay MRT\n",
              "58      S$950/mth spacious room for short/long term lease\n",
              "89                         Cozy room, convenient location\n",
              "105                       Student Guardianship & Homestay\n",
              "122                   ★2+1condo next to MRT, mall & more★\n",
              "                              ...                        \n",
              "7752                        near Clementi MRT female only\n",
              "7782               西部文理有保安的公寓楼下就是地铁站+巴士总站+商场｡南洋理工大学NUS附近｡\n",
              "7856               Spacious 3 bedroom at Perfect location\n",
              "7867                           Nearby NUS big common room\n",
              "7900                                              环境优雅的公寓\n",
              "Name: name, Length: 540, dtype: object"
            ]
          },
          "metadata": {},
          "execution_count": 23
        }
      ]
    },
    {
      "cell_type": "markdown",
      "source": [
        "5. Koefisien korelasi antara banyak review di aplikasi dengan banyaknya hari ketersediaan rumah dalam\n",
        "satu tahun. Apakah berkorelasi lurus, terbalik, atau tidak berkolerasi? Jelaskan."
      ],
      "metadata": {
        "id": "qbB7_BRA4-5z"
      }
    },
    {
      "cell_type": "code",
      "source": [
        "import pandas as pd\n",
        "\n",
        "# KAMUS\n",
        "# df: dataframe\n",
        "\n",
        "df=pd.read_csv(\"P05-03.csv\")\n",
        "\n",
        "# mengambil koefisien korelasi antara number_of_reviews dengan availability_365\n",
        "df[\"number_of_reviews\"].corr(df[\"availability_365\"])"
      ],
      "metadata": {
        "colab": {
          "base_uri": "https://localhost:8080/"
        },
        "id": "9a8cmm7Y4_M7",
        "outputId": "01033919-19ea-446e-b49b-01f48e21f0e1"
      },
      "execution_count": null,
      "outputs": [
        {
          "output_type": "execute_result",
          "data": {
            "text/plain": [
              "-0.06665806434499989"
            ]
          },
          "metadata": {},
          "execution_count": 15
        }
      ]
    },
    {
      "cell_type": "markdown",
      "source": [
        "Dibrerikan korelasi -0.06665806434499989 mendekati 0, artinya banyak review di aplikasi dan banyaknya hari ketersediaan rumah dalam satu tahun tidak berkorelasi"
      ],
      "metadata": {
        "id": "DP_tWjTS6Ow8"
      }
    }
  ]
}