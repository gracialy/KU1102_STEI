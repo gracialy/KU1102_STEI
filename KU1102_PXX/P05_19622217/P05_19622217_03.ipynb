{
  "nbformat": 4,
  "nbformat_minor": 0,
  "metadata": {
    "colab": {
      "provenance": []
    },
    "kernelspec": {
      "name": "python3",
      "display_name": "Python 3"
    },
    "language_info": {
      "name": "python"
    }
  },
  "cells": [
    {
      "cell_type": "code",
      "execution_count": null,
      "metadata": {
        "id": "2OZWOonM89kE"
      },
      "outputs": [],
      "source": [
        "# NIM/Nama: 19622217/Lydia Gracia\n",
        "# Tanggal: 23 November 2022\n",
        "# Deskripsi: Diberikan data pengguna kartu kredit suatu bank dalam file P05-01.csv"
      ]
    },
    {
      "cell_type": "markdown",
      "source": [
        "1. Histogram distribusi total nominal yang belum dibayar pengguna dengan status aktif (Existing Customer), dengan bins 20."
      ],
      "metadata": {
        "id": "MmP-Jvb49S_Y"
      }
    },
    {
      "cell_type": "code",
      "source": [
        "import pandas as pd\n",
        "import matplotlib.pyplot as plt\n",
        "\n",
        "# KAMUS\n",
        "# df: dataframe\n",
        "# df1: dataframe\n",
        "\n",
        "df=pd.read_csv(\"P05-01.csv\")\n",
        "\n",
        "# mengambil data pengguna dengan status aktif\n",
        "# df.loc[df[\"Attrition_Flag\"]==\"Existing Customer\"]\n",
        "\n",
        "# nominal maksimal yang belum dibayar pengguna yang memenuhi syarat\n",
        "# df.loc[df[\"Attrition_Flag\"]==\"Existing Customer\"][\"Total_Revolving_Bal\"].max() \n",
        "# 2517\n",
        "\n",
        "# daftar kemunculan nominal pada data yang memenuhi syarat\n",
        "# df.loc[df[\"Attrition_Flag\"]==\"Existing Customer\"][\"Total_Revolving_Bal\"].value_counts().sort_index()\n",
        "# 0       1577\n",
        "# 429        1\n",
        "# 451        1\n",
        "# 456        1\n",
        "# 461        1\n",
        "#         ... \n",
        "# 2509       2\n",
        "# 2511       1\n",
        "# 2512       2\n",
        "# 2514       2\n",
        "# 2517     350\n",
        "\n",
        "# histogram distribusi total nominal yang belum dibayar pengguna yang memenuhi syarat\n",
        "# berdasarkan kelompok nominal: 0-20; 21-40, 41-60, ..., 2500-2520\n",
        "df.loc[df[\"Attrition_Flag\"]==\"Existing Customer\"][[\"Total_Revolving_Bal\"]].plot(kind=\"hist\", bins=([i for i in range (0,2521,20)]))"
      ],
      "metadata": {
        "colab": {
          "base_uri": "https://localhost:8080/",
          "height": 282
        },
        "id": "yvqo8qmr9FjH",
        "outputId": "c0ca1739-2087-4aff-bc75-2035cd3d4b57"
      },
      "execution_count": null,
      "outputs": [
        {
          "output_type": "execute_result",
          "data": {
            "text/plain": [
              "<matplotlib.axes._subplots.AxesSubplot at 0x7fa16a5db2d0>"
            ]
          },
          "metadata": {},
          "execution_count": 45
        },
        {
          "output_type": "display_data",
          "data": {
            "text/plain": [
              "<Figure size 432x288 with 1 Axes>"
            ],
            "image/png": "[encoded data removed]"
          },
          "metadata": {
            "needs_background": "light"
          }
        }
      ]
    },
    {
      "cell_type": "markdown",
      "source": [
        "2. Pie chart perbandingan banyaknya masing-masing jenjang pendidikan terakhir dari pengguna dengan banyak transaksi selama 12 bulan terakhir di atas 30."
      ],
      "metadata": {
        "id": "vTrxD_H-_Y95"
      }
    },
    {
      "cell_type": "code",
      "source": [
        "import pandas as pd\n",
        "import matplotlib.pyplot as plt\n",
        "\n",
        "# KAMUS\n",
        "# df: dataframe\n",
        "\n",
        "df=pd.read_csv(\"P05-01.csv\")\n",
        "\n",
        "# mengambil data banyak pengguna dengan Total_Trans_Ct di atas 30\n",
        "# df.loc[df[\"Total_Trans_Ct\"]>30]\n",
        "\n",
        "# daftar kemunculan tiap Education_Level pada data yang memenuhi syarat\n",
        "# df.loc[df[\"Total_Trans_Ct\"]>30][\"Education_Level\"].value_counts()\n",
        "# Graduate         2908\n",
        "# High School      1863\n",
        "# Unknown          1422\n",
        "# Uneducated       1382\n",
        "# College           949\n",
        "# Post-Graduate     481\n",
        "# Doctorate         424\n",
        "\n",
        "# komposisi banyaknya pengguna yang memenuhi syarat berdasarkan Education_Level\n",
        "df.loc[df[\"Total_Trans_Ct\"]>30][\"Education_Level\"].value_counts().plot(kind=\"pie\")"
      ],
      "metadata": {
        "colab": {
          "base_uri": "https://localhost:8080/",
          "height": 265
        },
        "id": "cd25WOn7_jUY",
        "outputId": "cf862e26-fbb1-4c0f-f756-de2aefd86fad"
      },
      "execution_count": null,
      "outputs": [
        {
          "output_type": "execute_result",
          "data": {
            "text/plain": [
              "<matplotlib.axes._subplots.AxesSubplot at 0x7fa16b8ea1d0>"
            ]
          },
          "metadata": {},
          "execution_count": 48
        },
        {
          "output_type": "display_data",
          "data": {
            "text/plain": [
              "<Figure size 432x288 with 1 Axes>"
            ],
            "image/png": "[encoded data removed]"
          },
          "metadata": {}
        }
      ]
    },
    {
      "cell_type": "markdown",
      "source": [
        "4. Horizontal bar chart menggambarkan jumlah pengguna dari setiap tipe kartu."
      ],
      "metadata": {
        "id": "wIoN_DP6AOFI"
      }
    },
    {
      "cell_type": "code",
      "source": [
        "import pandas as pd\n",
        "import matplotlib.pyplot as plt\n",
        "\n",
        "# KAMUS\n",
        "# df: dataframe\n",
        "\n",
        "df=pd.read_csv(\"P05-01.csv\")\n",
        "\n",
        "# daftar kemunculan tipe kartu\n",
        "# df[\"Card_Category\"].value_counts()\n",
        "# Blue        9436\n",
        "# Silver       555\n",
        "# Gold         116\n",
        "# Platinum      20\n",
        "\n",
        "# horizontal bar chart untuk menampilkan banyak pengguna dari setiap tipe kartu\n",
        "df[\"Card_Category\"].value_counts().plot(kind=\"barh\", x=\"Card_Category\", y=\"Counts\")"
      ],
      "metadata": {
        "colab": {
          "base_uri": "https://localhost:8080/",
          "height": 282
        },
        "id": "5Q00Gz2nAOgz",
        "outputId": "63a8140f-7666-4f61-91dd-996bf6952c37"
      },
      "execution_count": null,
      "outputs": [
        {
          "output_type": "execute_result",
          "data": {
            "text/plain": [
              "<matplotlib.axes._subplots.AxesSubplot at 0x7fa16a2d8bd0>"
            ]
          },
          "metadata": {},
          "execution_count": 50
        },
        {
          "output_type": "display_data",
          "data": {
            "text/plain": [
              "<Figure size 432x288 with 1 Axes>"
            ],
            "image/png": "[encoded data removed]"
          },
          "metadata": {
            "needs_background": "light"
          }
        }
      ]
    },
    {
      "cell_type": "markdown",
      "source": [
        "5. Stacked bar chart dari pengguna dengan status perkawinan ’Married’, ’Single’, dan ’Divorced’ dengan jenis kelamin sebagai sumbu x dan status perkawinan sebagai stacked y"
      ],
      "metadata": {
        "id": "LZI5kiYUARER"
      }
    },
    {
      "cell_type": "code",
      "source": [
        "import pandas as pd\n",
        "import matplotlib.pyplot as plt\n",
        "\n",
        "# KAMUS\n",
        "# df: dataframe\n",
        "\n",
        "df=pd.read_csv(\"P05-01.csv\")\n",
        "\n",
        "# mengambil data dengan status perkawinan Married, Single, atau Divorced\n",
        "# df.loc[(df[\"Marital_Status\"]==\"Married\") | (df[\"Marital_Status\"]==\"Single\") | (df[\"Marital_Status\"]==\"Divorced\")]\n",
        "# banyaknya data per jenis kelamin per status perkawinan\n",
        "df.loc[(df[\"Marital_Status\"]==\"Married\") | (df[\"Marital_Status\"]==\"Single\") | (df[\"Marital_Status\"]==\"Divorced\")].groupby([\"Gender\", \"Marital_Status\"]).size().unstack().plot(kind=\"bar\", stacked=True)"
      ],
      "metadata": {
        "colab": {
          "base_uri": "https://localhost:8080/",
          "height": 295
        },
        "id": "L4_IDPUCARZB",
        "outputId": "1cbaff08-dc76-49e2-d54b-65bc0fad1d97"
      },
      "execution_count": null,
      "outputs": [
        {
          "output_type": "execute_result",
          "data": {
            "text/plain": [
              "<matplotlib.axes._subplots.AxesSubplot at 0x7fa16a019190>"
            ]
          },
          "metadata": {},
          "execution_count": 57
        },
        {
          "output_type": "display_data",
          "data": {
            "text/plain": [
              "<Figure size 432x288 with 1 Axes>"
            ],
            "image/png": "[encoded data removed]"
          },
          "metadata": {
            "needs_background": "light"
          }
        }
      ]
    }
  ]
}