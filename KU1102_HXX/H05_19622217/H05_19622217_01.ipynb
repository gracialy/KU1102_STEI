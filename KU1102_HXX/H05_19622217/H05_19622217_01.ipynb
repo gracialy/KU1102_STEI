{
  "cells": [
    {
      "cell_type": "code",
      "execution_count": 1,
      "metadata": {
        "id": "0553bzdKHUzg"
      },
      "outputs": [],
      "source": [
        "# NIM/Nama  : 19622217/Lydia Gracia\n",
        "# Tanggal   : 15 November 2022\n",
        "# Deskripsi : membaca data mahasiswa dan menampilkan (1) banyaknya data, (2) 10 data pertama, (3) data ke 50 sampai 60 secara inklusif, (4) banyaknya mahasiswa tiap fakultas, (5) nilai korelasi antara nilai fisika dan kimia\n",
        "\n",
        "# KAMUS\n",
        "# df: dataframe"
      ]
    },
    {
      "cell_type": "code",
      "execution_count": null,
      "metadata": {
        "id": "FThssxwmHUzi"
      },
      "outputs": [],
      "source": [
        "import pandas as pd\n",
        "\n",
        "# membaca file\n",
        "df=pd.read_csv(\"H05.csv\")"
      ]
    },
    {
      "cell_type": "markdown",
      "metadata": {
        "id": "_olaU5_3HUzi"
      },
      "source": [
        "1. Banyaknya data"
      ]
    },
    {
      "cell_type": "code",
      "execution_count": null,
      "metadata": {
        "colab": {
          "base_uri": "https://localhost:8080/"
        },
        "id": "ZAR7pbymHUzk",
        "outputId": "01529e28-3c35-4aae-efa6-a8f435be4692"
      },
      "outputs": [
        {
          "name": "stdout",
          "output_type": "stream",
          "text": [
            "5135\n"
          ]
        }
      ],
      "source": [
        "# cetak banyak baris\n",
        "print(len(df))"
      ]
    },
    {
      "cell_type": "markdown",
      "metadata": {
        "id": "A2krRE-jHUzn"
      },
      "source": [
        "2. 10 data pertama"
      ]
    },
    {
      "cell_type": "code",
      "execution_count": null,
      "metadata": {
        "colab": {
          "base_uri": "https://localhost:8080/",
          "height": 363
        },
        "id": "ZRAvkvU3HUzo",
        "outputId": "2b84d55c-991b-4a1f-b55c-3a25638868f5"
      },
      "outputs": [
        {
          "data": {
            "text/html": [
              "\n",
              "  <div id=\"df-de0e786e-049b-4b62-be48-9bc89a74c4aa\">\n",
              "    <div class=\"colab-df-container\">\n",
              "      <div>\n",
              "<style scoped>\n",
              "    .dataframe tbody tr th:only-of-type {\n",
              "        vertical-align: middle;\n",
              "    }\n",
              "\n",
              "    .dataframe tbody tr th {\n",
              "        vertical-align: top;\n",
              "    }\n",
              "\n",
              "    .dataframe thead th {\n",
              "        text-align: right;\n",
              "    }\n",
              "</style>\n",
              "<table border=\"1\" class=\"dataframe\">\n",
              "  <thead>\n",
              "    <tr style=\"text-align: right;\">\n",
              "      <th></th>\n",
              "      <th>nama</th>\n",
              "      <th>fakultas</th>\n",
              "      <th>nilai_mat</th>\n",
              "      <th>nilai_kim</th>\n",
              "      <th>nilai_fis</th>\n",
              "    </tr>\n",
              "  </thead>\n",
              "  <tbody>\n",
              "    <tr>\n",
              "      <th>0</th>\n",
              "      <td>Farhan Fathur Rahman</td>\n",
              "      <td>FMIPA</td>\n",
              "      <td>57.21</td>\n",
              "      <td>34.14</td>\n",
              "      <td>38.93</td>\n",
              "    </tr>\n",
              "    <tr>\n",
              "      <th>1</th>\n",
              "      <td>Steven Margono</td>\n",
              "      <td>FMIPA</td>\n",
              "      <td>67.43</td>\n",
              "      <td>51.50</td>\n",
              "      <td>57.20</td>\n",
              "    </tr>\n",
              "    <tr>\n",
              "      <th>2</th>\n",
              "      <td>Ryan Sentosa</td>\n",
              "      <td>SAPPK</td>\n",
              "      <td>90.62</td>\n",
              "      <td>37.38</td>\n",
              "      <td>40.73</td>\n",
              "    </tr>\n",
              "    <tr>\n",
              "      <th>3</th>\n",
              "      <td>Muhajah Babny Muslim</td>\n",
              "      <td>FMIPA</td>\n",
              "      <td>72.31</td>\n",
              "      <td>38.80</td>\n",
              "      <td>44.79</td>\n",
              "    </tr>\n",
              "    <tr>\n",
              "      <th>4</th>\n",
              "      <td>Alvin Natawiguna</td>\n",
              "      <td>FTSL</td>\n",
              "      <td>65.45</td>\n",
              "      <td>57.67</td>\n",
              "      <td>56.39</td>\n",
              "    </tr>\n",
              "    <tr>\n",
              "      <th>5</th>\n",
              "      <td>Sasti Safitri</td>\n",
              "      <td>FTSL</td>\n",
              "      <td>60.58</td>\n",
              "      <td>41.91</td>\n",
              "      <td>51.55</td>\n",
              "    </tr>\n",
              "    <tr>\n",
              "      <th>6</th>\n",
              "      <td>Dani Yulianto Putra</td>\n",
              "      <td>FTSL</td>\n",
              "      <td>51.67</td>\n",
              "      <td>35.05</td>\n",
              "      <td>48.69</td>\n",
              "    </tr>\n",
              "    <tr>\n",
              "      <th>7</th>\n",
              "      <td>Nabila Febitsukarizky Bunyamin</td>\n",
              "      <td>FTTM</td>\n",
              "      <td>71.66</td>\n",
              "      <td>67.61</td>\n",
              "      <td>69.75</td>\n",
              "    </tr>\n",
              "    <tr>\n",
              "      <th>8</th>\n",
              "      <td>Ratna Siti Khodijah</td>\n",
              "      <td>FTI</td>\n",
              "      <td>73.06</td>\n",
              "      <td>59.16</td>\n",
              "      <td>59.48</td>\n",
              "    </tr>\n",
              "    <tr>\n",
              "      <th>9</th>\n",
              "      <td>Gita Partiwi</td>\n",
              "      <td>FTSL</td>\n",
              "      <td>69.57</td>\n",
              "      <td>38.84</td>\n",
              "      <td>48.17</td>\n",
              "    </tr>\n",
              "  </tbody>\n",
              "</table>\n",
              "</div>\n",
              "      <button class=\"colab-df-convert\" onclick=\"convertToInteractive('df-de0e786e-049b-4b62-be48-9bc89a74c4aa')\"\n",
              "              title=\"Convert this dataframe to an interactive table.\"\n",
              "              style=\"display:none;\">\n",
              "        \n",
              "  <svg xmlns=\"http://www.w3.org/2000/svg\" height=\"24px\"viewBox=\"0 0 24 24\"\n",
              "       width=\"24px\">\n",
              "    <path d=\"M0 0h24v24H0V0z\" fill=\"none\"/>\n",
              "    <path d=\"M18.56 5.44l.94 2.06.94-2.06 2.06-.94-2.06-.94-.94-2.06-.94 2.06-2.06.94zm-11 1L8.5 8.5l.94-2.06 2.06-.94-2.06-.94L8.5 2.5l-.94 2.06-2.06.94zm10 10l.94 2.06.94-2.06 2.06-.94-2.06-.94-.94-2.06-.94 2.06-2.06.94z\"/><path d=\"M17.41 7.96l-1.37-1.37c-.4-.4-.92-.59-1.43-.59-.52 0-1.04.2-1.43.59L10.3 9.45l-7.72 7.72c-.78.78-.78 2.05 0 2.83L4 21.41c.39.39.9.59 1.41.59.51 0 1.02-.2 1.41-.59l7.78-7.78 2.81-2.81c.8-.78.8-2.07 0-2.86zM5.41 20L4 18.59l7.72-7.72 1.47 1.35L5.41 20z\"/>\n",
              "  </svg>\n",
              "      </button>\n",
              "      \n",
              "  <style>\n",
              "    .colab-df-container {\n",
              "      display:flex;\n",
              "      flex-wrap:wrap;\n",
              "      gap: 12px;\n",
              "    }\n",
              "\n",
              "    .colab-df-convert {\n",
              "      background-color: #E8F0FE;\n",
              "      border: none;\n",
              "      border-radius: 50%;\n",
              "      cursor: pointer;\n",
              "      display: none;\n",
              "      fill: #1967D2;\n",
              "      height: 32px;\n",
              "      padding: 0 0 0 0;\n",
              "      width: 32px;\n",
              "    }\n",
              "\n",
              "    .colab-df-convert:hover {\n",
              "      background-color: #E2EBFA;\n",
              "      box-shadow: 0px 1px 2px rgba(60, 64, 67, 0.3), 0px 1px 3px 1px rgba(60, 64, 67, 0.15);\n",
              "      fill: #174EA6;\n",
              "    }\n",
              "\n",
              "    [theme=dark] .colab-df-convert {\n",
              "      background-color: #3B4455;\n",
              "      fill: #D2E3FC;\n",
              "    }\n",
              "\n",
              "    [theme=dark] .colab-df-convert:hover {\n",
              "      background-color: #434B5C;\n",
              "      box-shadow: 0px 1px 3px 1px rgba(0, 0, 0, 0.15);\n",
              "      filter: drop-shadow(0px 1px 2px rgba(0, 0, 0, 0.3));\n",
              "      fill: #FFFFFF;\n",
              "    }\n",
              "  </style>\n",
              "\n",
              "      <script>\n",
              "        const buttonEl =\n",
              "          document.querySelector('#df-de0e786e-049b-4b62-be48-9bc89a74c4aa button.colab-df-convert');\n",
              "        buttonEl.style.display =\n",
              "          google.colab.kernel.accessAllowed ? 'block' : 'none';\n",
              "\n",
              "        async function convertToInteractive(key) {\n",
              "          const element = document.querySelector('#df-de0e786e-049b-4b62-be48-9bc89a74c4aa');\n",
              "          const dataTable =\n",
              "            await google.colab.kernel.invokeFunction('convertToInteractive',\n",
              "                                                     [key], {});\n",
              "          if (!dataTable) return;\n",
              "\n",
              "          const docLinkHtml = 'Like what you see? Visit the ' +\n",
              "            '<a target=\"_blank\" href=https://colab.research.google.com/notebooks/data_table.ipynb>data table notebook</a>'\n",
              "            + ' to learn more about interactive tables.';\n",
              "          element.innerHTML = '';\n",
              "          dataTable['output_type'] = 'display_data';\n",
              "          await google.colab.output.renderOutput(dataTable, element);\n",
              "          const docLink = document.createElement('div');\n",
              "          docLink.innerHTML = docLinkHtml;\n",
              "          element.appendChild(docLink);\n",
              "        }\n",
              "      </script>\n",
              "    </div>\n",
              "  </div>\n",
              "  "
            ],
            "text/plain": [
              "                             nama fakultas  nilai_mat  nilai_kim  nilai_fis\n",
              "0            Farhan Fathur Rahman    FMIPA      57.21      34.14      38.93\n",
              "1                  Steven Margono    FMIPA      67.43      51.50      57.20\n",
              "2                    Ryan Sentosa    SAPPK      90.62      37.38      40.73\n",
              "3            Muhajah Babny Muslim    FMIPA      72.31      38.80      44.79\n",
              "4                Alvin Natawiguna     FTSL      65.45      57.67      56.39\n",
              "5                   Sasti Safitri     FTSL      60.58      41.91      51.55\n",
              "6             Dani Yulianto Putra     FTSL      51.67      35.05      48.69\n",
              "7  Nabila Febitsukarizky Bunyamin     FTTM      71.66      67.61      69.75\n",
              "8             Ratna Siti Khodijah      FTI      73.06      59.16      59.48\n",
              "9                    Gita Partiwi     FTSL      69.57      38.84      48.17"
            ]
          },
          "execution_count": 12,
          "metadata": {},
          "output_type": "execute_result"
        }
      ],
      "source": [
        "# ambil 10 data pertama (sampai indeks 9)\n",
        "df[:10]"
      ]
    },
    {
      "cell_type": "markdown",
      "metadata": {
        "id": "Xc4uEe4tHUzp"
      },
      "source": [
        "3. data ke 50 sampai 60 (inklusif: data ke-50, data ke-51, . . . , data ke-60)"
      ]
    },
    {
      "cell_type": "code",
      "execution_count": null,
      "metadata": {
        "colab": {
          "base_uri": "https://localhost:8080/",
          "height": 394
        },
        "id": "8luUyLtKHUzp",
        "outputId": "1cbde9ad-76cf-4290-a6cc-8b30f28bf13b"
      },
      "outputs": [
        {
          "data": {
            "text/html": [
              "\n",
              "  <div id=\"df-1b90d361-518a-47d6-bebb-9822eaa27fe9\">\n",
              "    <div class=\"colab-df-container\">\n",
              "      <div>\n",
              "<style scoped>\n",
              "    .dataframe tbody tr th:only-of-type {\n",
              "        vertical-align: middle;\n",
              "    }\n",
              "\n",
              "    .dataframe tbody tr th {\n",
              "        vertical-align: top;\n",
              "    }\n",
              "\n",
              "    .dataframe thead th {\n",
              "        text-align: right;\n",
              "    }\n",
              "</style>\n",
              "<table border=\"1\" class=\"dataframe\">\n",
              "  <thead>\n",
              "    <tr style=\"text-align: right;\">\n",
              "      <th></th>\n",
              "      <th>nama</th>\n",
              "      <th>fakultas</th>\n",
              "      <th>nilai_mat</th>\n",
              "      <th>nilai_kim</th>\n",
              "      <th>nilai_fis</th>\n",
              "    </tr>\n",
              "  </thead>\n",
              "  <tbody>\n",
              "    <tr>\n",
              "      <th>49</th>\n",
              "      <td>Alief Rizky Ramadhan</td>\n",
              "      <td>SITHS</td>\n",
              "      <td>84.59</td>\n",
              "      <td>42.44</td>\n",
              "      <td>40.48</td>\n",
              "    </tr>\n",
              "    <tr>\n",
              "      <th>50</th>\n",
              "      <td>Arief Syakur Sutedjo</td>\n",
              "      <td>FTTM</td>\n",
              "      <td>84.40</td>\n",
              "      <td>61.21</td>\n",
              "      <td>73.91</td>\n",
              "    </tr>\n",
              "    <tr>\n",
              "      <th>51</th>\n",
              "      <td>Fayi Raihan Saleh</td>\n",
              "      <td>FMIPA</td>\n",
              "      <td>60.62</td>\n",
              "      <td>32.57</td>\n",
              "      <td>42.34</td>\n",
              "    </tr>\n",
              "    <tr>\n",
              "      <th>52</th>\n",
              "      <td>Erna Kristiawati</td>\n",
              "      <td>FTI</td>\n",
              "      <td>67.48</td>\n",
              "      <td>46.78</td>\n",
              "      <td>52.30</td>\n",
              "    </tr>\n",
              "    <tr>\n",
              "      <th>53</th>\n",
              "      <td>Albert</td>\n",
              "      <td>SAPPK</td>\n",
              "      <td>70.27</td>\n",
              "      <td>50.10</td>\n",
              "      <td>54.01</td>\n",
              "    </tr>\n",
              "    <tr>\n",
              "      <th>54</th>\n",
              "      <td>M Jazztyan Indra Pradana</td>\n",
              "      <td>STEI</td>\n",
              "      <td>53.40</td>\n",
              "      <td>43.06</td>\n",
              "      <td>60.30</td>\n",
              "    </tr>\n",
              "    <tr>\n",
              "      <th>55</th>\n",
              "      <td>Moch Ginanjar Busiri</td>\n",
              "      <td>FMIPA</td>\n",
              "      <td>74.29</td>\n",
              "      <td>38.44</td>\n",
              "      <td>49.15</td>\n",
              "    </tr>\n",
              "    <tr>\n",
              "      <th>56</th>\n",
              "      <td>Aisya Tamara</td>\n",
              "      <td>FITB</td>\n",
              "      <td>71.49</td>\n",
              "      <td>35.86</td>\n",
              "      <td>37.41</td>\n",
              "    </tr>\n",
              "    <tr>\n",
              "      <th>57</th>\n",
              "      <td>Tyas Arum Widayati</td>\n",
              "      <td>SAPPK</td>\n",
              "      <td>68.57</td>\n",
              "      <td>37.02</td>\n",
              "      <td>53.25</td>\n",
              "    </tr>\n",
              "    <tr>\n",
              "      <th>58</th>\n",
              "      <td>Arif Saleh</td>\n",
              "      <td>FTI</td>\n",
              "      <td>100.00</td>\n",
              "      <td>59.79</td>\n",
              "      <td>55.33</td>\n",
              "    </tr>\n",
              "    <tr>\n",
              "      <th>59</th>\n",
              "      <td>Windy Diwita Nisaekti</td>\n",
              "      <td>FTI</td>\n",
              "      <td>67.15</td>\n",
              "      <td>57.72</td>\n",
              "      <td>54.24</td>\n",
              "    </tr>\n",
              "  </tbody>\n",
              "</table>\n",
              "</div>\n",
              "      <button class=\"colab-df-convert\" onclick=\"convertToInteractive('df-1b90d361-518a-47d6-bebb-9822eaa27fe9')\"\n",
              "              title=\"Convert this dataframe to an interactive table.\"\n",
              "              style=\"display:none;\">\n",
              "        \n",
              "  <svg xmlns=\"http://www.w3.org/2000/svg\" height=\"24px\"viewBox=\"0 0 24 24\"\n",
              "       width=\"24px\">\n",
              "    <path d=\"M0 0h24v24H0V0z\" fill=\"none\"/>\n",
              "    <path d=\"M18.56 5.44l.94 2.06.94-2.06 2.06-.94-2.06-.94-.94-2.06-.94 2.06-2.06.94zm-11 1L8.5 8.5l.94-2.06 2.06-.94-2.06-.94L8.5 2.5l-.94 2.06-2.06.94zm10 10l.94 2.06.94-2.06 2.06-.94-2.06-.94-.94-2.06-.94 2.06-2.06.94z\"/><path d=\"M17.41 7.96l-1.37-1.37c-.4-.4-.92-.59-1.43-.59-.52 0-1.04.2-1.43.59L10.3 9.45l-7.72 7.72c-.78.78-.78 2.05 0 2.83L4 21.41c.39.39.9.59 1.41.59.51 0 1.02-.2 1.41-.59l7.78-7.78 2.81-2.81c.8-.78.8-2.07 0-2.86zM5.41 20L4 18.59l7.72-7.72 1.47 1.35L5.41 20z\"/>\n",
              "  </svg>\n",
              "      </button>\n",
              "      \n",
              "  <style>\n",
              "    .colab-df-container {\n",
              "      display:flex;\n",
              "      flex-wrap:wrap;\n",
              "      gap: 12px;\n",
              "    }\n",
              "\n",
              "    .colab-df-convert {\n",
              "      background-color: #E8F0FE;\n",
              "      border: none;\n",
              "      border-radius: 50%;\n",
              "      cursor: pointer;\n",
              "      display: none;\n",
              "      fill: #1967D2;\n",
              "      height: 32px;\n",
              "      padding: 0 0 0 0;\n",
              "      width: 32px;\n",
              "    }\n",
              "\n",
              "    .colab-df-convert:hover {\n",
              "      background-color: #E2EBFA;\n",
              "      box-shadow: 0px 1px 2px rgba(60, 64, 67, 0.3), 0px 1px 3px 1px rgba(60, 64, 67, 0.15);\n",
              "      fill: #174EA6;\n",
              "    }\n",
              "\n",
              "    [theme=dark] .colab-df-convert {\n",
              "      background-color: #3B4455;\n",
              "      fill: #D2E3FC;\n",
              "    }\n",
              "\n",
              "    [theme=dark] .colab-df-convert:hover {\n",
              "      background-color: #434B5C;\n",
              "      box-shadow: 0px 1px 3px 1px rgba(0, 0, 0, 0.15);\n",
              "      filter: drop-shadow(0px 1px 2px rgba(0, 0, 0, 0.3));\n",
              "      fill: #FFFFFF;\n",
              "    }\n",
              "  </style>\n",
              "\n",
              "      <script>\n",
              "        const buttonEl =\n",
              "          document.querySelector('#df-1b90d361-518a-47d6-bebb-9822eaa27fe9 button.colab-df-convert');\n",
              "        buttonEl.style.display =\n",
              "          google.colab.kernel.accessAllowed ? 'block' : 'none';\n",
              "\n",
              "        async function convertToInteractive(key) {\n",
              "          const element = document.querySelector('#df-1b90d361-518a-47d6-bebb-9822eaa27fe9');\n",
              "          const dataTable =\n",
              "            await google.colab.kernel.invokeFunction('convertToInteractive',\n",
              "                                                     [key], {});\n",
              "          if (!dataTable) return;\n",
              "\n",
              "          const docLinkHtml = 'Like what you see? Visit the ' +\n",
              "            '<a target=\"_blank\" href=https://colab.research.google.com/notebooks/data_table.ipynb>data table notebook</a>'\n",
              "            + ' to learn more about interactive tables.';\n",
              "          element.innerHTML = '';\n",
              "          dataTable['output_type'] = 'display_data';\n",
              "          await google.colab.output.renderOutput(dataTable, element);\n",
              "          const docLink = document.createElement('div');\n",
              "          docLink.innerHTML = docLinkHtml;\n",
              "          element.appendChild(docLink);\n",
              "        }\n",
              "      </script>\n",
              "    </div>\n",
              "  </div>\n",
              "  "
            ],
            "text/plain": [
              "                        nama fakultas  nilai_mat  nilai_kim  nilai_fis\n",
              "49      Alief Rizky Ramadhan    SITHS      84.59      42.44      40.48\n",
              "50      Arief Syakur Sutedjo     FTTM      84.40      61.21      73.91\n",
              "51         Fayi Raihan Saleh    FMIPA      60.62      32.57      42.34\n",
              "52          Erna Kristiawati      FTI      67.48      46.78      52.30\n",
              "53                    Albert    SAPPK      70.27      50.10      54.01\n",
              "54  M Jazztyan Indra Pradana     STEI      53.40      43.06      60.30\n",
              "55      Moch Ginanjar Busiri    FMIPA      74.29      38.44      49.15\n",
              "56              Aisya Tamara     FITB      71.49      35.86      37.41\n",
              "57        Tyas Arum Widayati    SAPPK      68.57      37.02      53.25\n",
              "58                Arif Saleh      FTI     100.00      59.79      55.33\n",
              "59     Windy Diwita Nisaekti      FTI      67.15      57.72      54.24"
            ]
          },
          "execution_count": 6,
          "metadata": {},
          "output_type": "execute_result"
        }
      ],
      "source": [
        "# ambil data ke 50 (indeks 49) sampai 60 (indeks 59)\n",
        "df[49:60]"
      ]
    },
    {
      "cell_type": "markdown",
      "metadata": {
        "id": "0AW20_QjHUzp"
      },
      "source": [
        "4. banyaknya mahasiswa tiap fakultas"
      ]
    },
    {
      "cell_type": "code",
      "execution_count": null,
      "metadata": {
        "colab": {
          "base_uri": "https://localhost:8080/"
        },
        "id": "2TXLFeHoHUzq",
        "outputId": "1b7b5dd8-2fd2-4068-9a92-612db970310e"
      },
      "outputs": [
        {
          "data": {
            "text/plain": [
              "FTI      834\n",
              "STEI     777\n",
              "FTSL     660\n",
              "FMIPA    627\n",
              "FTTM     579\n",
              "FTMD     480\n",
              "FITB     403\n",
              "SAPPK    315\n",
              "SITHR    282\n",
              "SITHS    178\n",
              "Name: fakultas, dtype: int64"
            ]
          },
          "execution_count": 7,
          "metadata": {},
          "output_type": "execute_result"
        }
      ],
      "source": [
        "# menghitung banyak dari masing-masing fakultas\n",
        "df[\"fakultas\"].value_counts()"
      ]
    },
    {
      "cell_type": "markdown",
      "metadata": {
        "id": "TkJX5pN0HUzq"
      },
      "source": [
        "5. nilai korelasi antara nilai fisika dan kimia"
      ]
    },
    {
      "cell_type": "code",
      "execution_count": null,
      "metadata": {
        "colab": {
          "base_uri": "https://localhost:8080/"
        },
        "id": "a3YvTOYOHUzr",
        "outputId": "de552b70-b8b4-45cf-b701-e36b5d2afaf4"
      },
      "outputs": [
        {
          "name": "stdout",
          "output_type": "stream",
          "text": [
            "0.7988187423880275\n"
          ]
        }
      ],
      "source": [
        "print(df[\"nilai_fis\"].corr(df[\"nilai_kim\"]))"
      ]
    },
    {
      "cell_type": "markdown",
      "metadata": {
        "id": "kyXL1R1SHUzr"
      },
      "source": [
        "korelasi nilai fisika dan kimia mendekati 1, artinya keduanya berbanding lurus"
      ]
    }
  ],
  "metadata": {
    "colab": {
      "provenance": []
    },
    "kernelspec": {
      "display_name": "Python 3.10.5 64-bit",
      "language": "python",
      "name": "python3"
    },
    "language_info": {
      "codemirror_mode": {
        "name": "ipython",
        "version": 3
      },
      "file_extension": ".py",
      "mimetype": "text/x-python",
      "name": "python",
      "nbconvert_exporter": "python",
      "pygments_lexer": "ipython3",
      "version": "3.10.5"
    },
    "orig_nbformat": 4,
    "vscode": {
      "interpreter": {
        "hash": "f2ccb58c476f33ba3e3aee7ac07234ef6b8217ef24ad64d2a7d4fed1a57c1cd2"
      }
    }
  },
  "nbformat": 4,
  "nbformat_minor": 0
}
