{
  "cells": [
    {
      "cell_type": "code",
      "execution_count": null,
      "metadata": {
        "id": "dcKJX9VLJY3C"
      },
      "outputs": [],
      "source": [
        "# NIM/Nama  : 19622217/Lydia Gracia\n",
        "# Tanggal   : 15 November 2022\n",
        "# Deskripsi : membaca data mahasiswa dan menampilkan (1) nilai matematika, fisika, dan kimia milik Tuan Leo, (2) mahasiswa dengan nilai fisika tertinggi, (3) 10 mahasiswa dengan nilai kimia tertinggi, (4) banyaknya nilai matematika di bawah 50, (5) banyaknya mahasiswa FMIPA \n",
        "\n",
        "# KAMUS\n",
        "# df: dataframe\n",
        "# fismax: float"
      ]
    },
    {
      "cell_type": "code",
      "execution_count": 2,
      "metadata": {
        "id": "7PjR0tMSJY3G"
      },
      "outputs": [],
      "source": [
        "import pandas as pd\n",
        "\n",
        "# membaca file\n",
        "df=pd.read_csv(\"H05.csv\")"
      ]
    },
    {
      "cell_type": "markdown",
      "metadata": {
        "id": "w-glLzxnJY3G"
      },
      "source": [
        "1. nilai matematika, fisika, dan kimia milik Tuan Leo"
      ]
    },
    {
      "cell_type": "code",
      "execution_count": 8,
      "metadata": {
        "colab": {
          "base_uri": "https://localhost:8080/",
          "height": 81
        },
        "id": "tdLIxYhTJY3I",
        "outputId": "29bb5b6d-e27b-4f65-abfb-fd215064ea04"
      },
      "outputs": [
        {
          "data": {
            "text/html": [
              "\n",
              "  <div id=\"df-86ca3d26-4b23-4dcf-bb56-3c292fb5c30f\">\n",
              "    <div class=\"colab-df-container\">\n",
              "      <div>\n",
              "<style scoped>\n",
              "    .dataframe tbody tr th:only-of-type {\n",
              "        vertical-align: middle;\n",
              "    }\n",
              "\n",
              "    .dataframe tbody tr th {\n",
              "        vertical-align: top;\n",
              "    }\n",
              "\n",
              "    .dataframe thead th {\n",
              "        text-align: right;\n",
              "    }\n",
              "</style>\n",
              "<table border=\"1\" class=\"dataframe\">\n",
              "  <thead>\n",
              "    <tr style=\"text-align: right;\">\n",
              "      <th></th>\n",
              "      <th>nama</th>\n",
              "      <th>fakultas</th>\n",
              "      <th>nilai_mat</th>\n",
              "      <th>nilai_kim</th>\n",
              "      <th>nilai_fis</th>\n",
              "    </tr>\n",
              "  </thead>\n",
              "  <tbody>\n",
              "    <tr>\n",
              "      <th>3513</th>\n",
              "      <td>Tuan Leo</td>\n",
              "      <td>STEI</td>\n",
              "      <td>96.78</td>\n",
              "      <td>62.23</td>\n",
              "      <td>30.53</td>\n",
              "    </tr>\n",
              "  </tbody>\n",
              "</table>\n",
              "</div>\n",
              "      <button class=\"colab-df-convert\" onclick=\"convertToInteractive('df-86ca3d26-4b23-4dcf-bb56-3c292fb5c30f')\"\n",
              "              title=\"Convert this dataframe to an interactive table.\"\n",
              "              style=\"display:none;\">\n",
              "        \n",
              "  <svg xmlns=\"http://www.w3.org/2000/svg\" height=\"24px\"viewBox=\"0 0 24 24\"\n",
              "       width=\"24px\">\n",
              "    <path d=\"M0 0h24v24H0V0z\" fill=\"none\"/>\n",
              "    <path d=\"M18.56 5.44l.94 2.06.94-2.06 2.06-.94-2.06-.94-.94-2.06-.94 2.06-2.06.94zm-11 1L8.5 8.5l.94-2.06 2.06-.94-2.06-.94L8.5 2.5l-.94 2.06-2.06.94zm10 10l.94 2.06.94-2.06 2.06-.94-2.06-.94-.94-2.06-.94 2.06-2.06.94z\"/><path d=\"M17.41 7.96l-1.37-1.37c-.4-.4-.92-.59-1.43-.59-.52 0-1.04.2-1.43.59L10.3 9.45l-7.72 7.72c-.78.78-.78 2.05 0 2.83L4 21.41c.39.39.9.59 1.41.59.51 0 1.02-.2 1.41-.59l7.78-7.78 2.81-2.81c.8-.78.8-2.07 0-2.86zM5.41 20L4 18.59l7.72-7.72 1.47 1.35L5.41 20z\"/>\n",
              "  </svg>\n",
              "      </button>\n",
              "      \n",
              "  <style>\n",
              "    .colab-df-container {\n",
              "      display:flex;\n",
              "      flex-wrap:wrap;\n",
              "      gap: 12px;\n",
              "    }\n",
              "\n",
              "    .colab-df-convert {\n",
              "      background-color: #E8F0FE;\n",
              "      border: none;\n",
              "      border-radius: 50%;\n",
              "      cursor: pointer;\n",
              "      display: none;\n",
              "      fill: #1967D2;\n",
              "      height: 32px;\n",
              "      padding: 0 0 0 0;\n",
              "      width: 32px;\n",
              "    }\n",
              "\n",
              "    .colab-df-convert:hover {\n",
              "      background-color: #E2EBFA;\n",
              "      box-shadow: 0px 1px 2px rgba(60, 64, 67, 0.3), 0px 1px 3px 1px rgba(60, 64, 67, 0.15);\n",
              "      fill: #174EA6;\n",
              "    }\n",
              "\n",
              "    [theme=dark] .colab-df-convert {\n",
              "      background-color: #3B4455;\n",
              "      fill: #D2E3FC;\n",
              "    }\n",
              "\n",
              "    [theme=dark] .colab-df-convert:hover {\n",
              "      background-color: #434B5C;\n",
              "      box-shadow: 0px 1px 3px 1px rgba(0, 0, 0, 0.15);\n",
              "      filter: drop-shadow(0px 1px 2px rgba(0, 0, 0, 0.3));\n",
              "      fill: #FFFFFF;\n",
              "    }\n",
              "  </style>\n",
              "\n",
              "      <script>\n",
              "        const buttonEl =\n",
              "          document.querySelector('#df-86ca3d26-4b23-4dcf-bb56-3c292fb5c30f button.colab-df-convert');\n",
              "        buttonEl.style.display =\n",
              "          google.colab.kernel.accessAllowed ? 'block' : 'none';\n",
              "\n",
              "        async function convertToInteractive(key) {\n",
              "          const element = document.querySelector('#df-86ca3d26-4b23-4dcf-bb56-3c292fb5c30f');\n",
              "          const dataTable =\n",
              "            await google.colab.kernel.invokeFunction('convertToInteractive',\n",
              "                                                     [key], {});\n",
              "          if (!dataTable) return;\n",
              "\n",
              "          const docLinkHtml = 'Like what you see? Visit the ' +\n",
              "            '<a target=\"_blank\" href=https://colab.research.google.com/notebooks/data_table.ipynb>data table notebook</a>'\n",
              "            + ' to learn more about interactive tables.';\n",
              "          element.innerHTML = '';\n",
              "          dataTable['output_type'] = 'display_data';\n",
              "          await google.colab.output.renderOutput(dataTable, element);\n",
              "          const docLink = document.createElement('div');\n",
              "          docLink.innerHTML = docLinkHtml;\n",
              "          element.appendChild(docLink);\n",
              "        }\n",
              "      </script>\n",
              "    </div>\n",
              "  </div>\n",
              "  "
            ],
            "text/plain": [
              "          nama fakultas  nilai_mat  nilai_kim  nilai_fis\n",
              "3513  Tuan Leo     STEI      96.78      62.23      30.53"
            ]
          },
          "execution_count": 8,
          "metadata": {},
          "output_type": "execute_result"
        }
      ],
      "source": [
        "# ambil data Tuan Leo\n",
        "df.loc[df[\"nama\"]==\"Tuan Leo\"]"
      ]
    },
    {
      "cell_type": "markdown",
      "metadata": {
        "id": "n7PRLTS8JY3K"
      },
      "source": [
        "2. mahasiswa dengan nilai fisika tertinggi"
      ]
    },
    {
      "cell_type": "code",
      "execution_count": 4,
      "metadata": {
        "colab": {
          "base_uri": "https://localhost:8080/",
          "height": 81
        },
        "id": "26Bfy8mmJY3K",
        "outputId": "70fe1be8-4eb8-42c6-ed89-be83105e3382"
      },
      "outputs": [
        {
          "data": {
            "text/html": [
              "<div>\n",
              "<style scoped>\n",
              "    .dataframe tbody tr th:only-of-type {\n",
              "        vertical-align: middle;\n",
              "    }\n",
              "\n",
              "    .dataframe tbody tr th {\n",
              "        vertical-align: top;\n",
              "    }\n",
              "\n",
              "    .dataframe thead th {\n",
              "        text-align: right;\n",
              "    }\n",
              "</style>\n",
              "<table border=\"1\" class=\"dataframe\">\n",
              "  <thead>\n",
              "    <tr style=\"text-align: right;\">\n",
              "      <th></th>\n",
              "      <th>nama</th>\n",
              "      <th>fakultas</th>\n",
              "      <th>nilai_mat</th>\n",
              "      <th>nilai_kim</th>\n",
              "      <th>nilai_fis</th>\n",
              "    </tr>\n",
              "  </thead>\n",
              "  <tbody>\n",
              "    <tr>\n",
              "      <th>1936</th>\n",
              "      <td>Yuniar Fazriani Rusmana</td>\n",
              "      <td>FITB</td>\n",
              "      <td>53.61</td>\n",
              "      <td>67.19</td>\n",
              "      <td>92.57</td>\n",
              "    </tr>\n",
              "  </tbody>\n",
              "</table>\n",
              "</div>"
            ],
            "text/plain": [
              "                         nama fakultas  nilai_mat  nilai_kim  nilai_fis\n",
              "1936  Yuniar Fazriani Rusmana     FITB      53.61      67.19      92.57"
            ]
          },
          "execution_count": 4,
          "metadata": {},
          "output_type": "execute_result"
        }
      ],
      "source": [
        "# menyimpan nilai fisika tertinggi\n",
        "fismax=df[\"nilai_fis\"].max()\n",
        "# menampilkan semua siswa dengan nilai fisika tertinggi\n",
        "df.loc[df[\"nilai_fis\"]==fismax] "
      ]
    },
    {
      "cell_type": "markdown",
      "metadata": {
        "id": "Grw3XwF_JY3L"
      },
      "source": [
        "3. 10 mahasiswa dengan nilai kimia tertinggi"
      ]
    },
    {
      "cell_type": "code",
      "execution_count": 12,
      "metadata": {
        "colab": {
          "base_uri": "https://localhost:8080/"
        },
        "id": "J4j2eSBcJY3L",
        "outputId": "d6a7c570-8f70-4a22-c80b-91d830b3d991"
      },
      "outputs": [
        {
          "data": {
            "text/plain": [
              "2554        Faathir Reza Avicena\n",
              "2779        Dinda A A Z Mundakir\n",
              "3544          Tammya Ayu Purnomo\n",
              "4934      Alyssa Nadhira Windari\n",
              "1137            Izni Nur Ibrahim\n",
              "2262        Rinaldi Oky Setiawan\n",
              "4070        Ias Azhari Rezkyarno\n",
              "2945             Klara Petra T T\n",
              "1788    Naudy Germanimo Laksmana\n",
              "1310         Mardliyahtur Rohmah\n",
              "Name: nama, dtype: object"
            ]
          },
          "execution_count": 12,
          "metadata": {},
          "output_type": "execute_result"
        }
      ],
      "source": [
        "# urutkan mahasiswa dengan nilai kimia menurun (descending)\n",
        "df=df.sort_values([\"nilai_kim\"], ascending=[0])\n",
        "# print 10 mahasiswa dengan nilai kimia tertinggi\n",
        "df[:10][\"nama\"]"
      ]
    },
    {
      "cell_type": "markdown",
      "metadata": {
        "id": "iAKRXQf6JY3M"
      },
      "source": [
        "4. banyaknya nilai matematika di bawah 50"
      ]
    },
    {
      "cell_type": "code",
      "execution_count": 14,
      "metadata": {
        "colab": {
          "base_uri": "https://localhost:8080/"
        },
        "id": "9jsI_GbtJY3M",
        "outputId": "eaccf8a9-b9a5-40d5-8260-301b19727d07"
      },
      "outputs": [
        {
          "name": "stdout",
          "output_type": "stream",
          "text": [
            "329\n"
          ]
        }
      ],
      "source": [
        "# baca data original\n",
        "df=pd.read_csv(\"H05.csv\")\n",
        "# tampilkan banyak baris dengan nilai_mat<=50\n",
        "print(len(df.loc[df[\"nilai_mat\"]<=50]))"
      ]
    },
    {
      "cell_type": "markdown",
      "metadata": {
        "id": "qg-c6rj1JY3N"
      },
      "source": [
        "5. banyaknya mahasiswa fmipa"
      ]
    },
    {
      "cell_type": "code",
      "execution_count": 15,
      "metadata": {
        "colab": {
          "base_uri": "https://localhost:8080/"
        },
        "id": "Ur6TyQRNJY3N",
        "outputId": "cf436f04-a4d9-478a-da54-f01fc4844be0"
      },
      "outputs": [
        {
          "name": "stdout",
          "output_type": "stream",
          "text": [
            "627\n"
          ]
        }
      ],
      "source": [
        "# menampilkan banyak baris fakultas FMIPA\n",
        "print(len(df.loc[df[\"fakultas\"]==\"FMIPA\"]))"
      ]
    }
  ],
  "metadata": {
    "colab": {
      "provenance": []
    },
    "kernelspec": {
      "display_name": "Python 3 (ipykernel)",
      "language": "python",
      "name": "python3"
    },
    "language_info": {
      "codemirror_mode": {
        "name": "ipython",
        "version": 3
      },
      "file_extension": ".py",
      "mimetype": "text/x-python",
      "name": "python",
      "nbconvert_exporter": "python",
      "pygments_lexer": "ipython3",
      "version": "3.10.5"
    },
    "vscode": {
      "interpreter": {
        "hash": "f2ccb58c476f33ba3e3aee7ac07234ef6b8217ef24ad64d2a7d4fed1a57c1cd2"
      }
    }
  },
  "nbformat": 4,
  "nbformat_minor": 0
}
